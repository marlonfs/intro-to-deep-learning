{
  "nbformat": 4,
  "nbformat_minor": 0,
  "metadata": {
    "colab": {
      "provenance": [],
      "include_colab_link": true
    },
    "kernelspec": {
      "name": "python3",
      "display_name": "Python 3"
    },
    "accelerator": "TPU"
  },
  "cells": [
    {
      "cell_type": "markdown",
      "metadata": {
        "id": "view-in-github",
        "colab_type": "text"
      },
      "source": [
        "<a href=\"https://colab.research.google.com/github/marlonfs/intro-to-deep-learning/blob/main/TensorFlow_tch_cana.ipynb\" target=\"_parent\"><img src=\"https://colab.research.google.com/assets/colab-badge.svg\" alt=\"Open In Colab\"/></a>"
      ]
    },
    {
      "cell_type": "markdown",
      "metadata": {
        "id": "a2X7cep-v_c4"
      },
      "source": [
        "##Importar as bibliotecas"
      ]
    },
    {
      "cell_type": "code",
      "metadata": {
        "id": "EnwehD8o_jnu"
      },
      "source": [
        "# Importar bibliotecas\n",
        "\n",
        "# TensorFlow e Layers\n",
        "import tensorflow as tf\n",
        "from tensorflow.keras import layers\n",
        "\n",
        "# Importar a bilbioteca Keras\n",
        "from tensorflow import keras\n",
        "\n",
        "# Importar Pandas\n",
        "import pandas as pd\n",
        "\n",
        "# Importar Numpy\n",
        "import numpy as np\n",
        "\n",
        "# Conjunto Treino/Teste\n",
        "from sklearn.model_selection import train_test_split\n",
        "\n",
        "# Normalizar os dados\n",
        "from sklearn.preprocessing import StandardScaler\n",
        "from sklearn.preprocessing import MinMaxScaler\n",
        "\n",
        "# Transformar a colunas em códigos de 0 a n_classes-1\n",
        "from sklearn.preprocessing import LabelEncoder\n",
        "\n",
        "# Importar MatplotLip\n",
        "import matplotlib.pyplot as plt"
      ],
      "execution_count": null,
      "outputs": []
    },
    {
      "cell_type": "markdown",
      "metadata": {
        "id": "ssi-finRyuhi"
      },
      "source": [
        "##Só rodar se for usar TPU"
      ]
    },
    {
      "cell_type": "code",
      "metadata": {
        "id": "kgLJdSR8PYB8",
        "outputId": "df6b2696-4680-4281-a8ff-7259f1faa00a",
        "colab": {
          "base_uri": "https://localhost:8080/"
        }
      },
      "source": [
        "print(\"Tensorflow version \" + tf.__version__)"
      ],
      "execution_count": null,
      "outputs": [
        {
          "output_type": "stream",
          "text": [
            "Tensorflow version 2.3.0\n"
          ],
          "name": "stdout"
        }
      ]
    },
    {
      "cell_type": "code",
      "metadata": {
        "id": "5_HgquOPPlUo",
        "outputId": "c8e18afc-791c-4f6f-a670-5a09ddff57f7",
        "colab": {
          "base_uri": "https://localhost:8080/"
        }
      },
      "source": [
        "# TF 2.3 version\n",
        "# Detect and init the TPU\n",
        "try: # detect TPUs\n",
        "    tpu = tf.distribute.cluster_resolver.TPUClusterResolver.connect() # TPU detection\n",
        "    strategy = tf.distribute.TPUStrategy(tpu)\n",
        "except ValueError: # detect GPUs\n",
        "    strategy = tf.distribute.get_strategy() # default strategy that works on CPU and single GPU\n",
        "print(\"Number of accelerators: \", strategy.num_replicas_in_sync)\n"
      ],
      "execution_count": null,
      "outputs": [
        {
          "output_type": "stream",
          "text": [
            "INFO:tensorflow:Initializing the TPU system: grpc://10.52.188.250:8470\n"
          ],
          "name": "stdout"
        },
        {
          "output_type": "stream",
          "text": [
            "INFO:tensorflow:Initializing the TPU system: grpc://10.52.188.250:8470\n"
          ],
          "name": "stderr"
        },
        {
          "output_type": "stream",
          "text": [
            "INFO:tensorflow:Clearing out eager caches\n"
          ],
          "name": "stdout"
        },
        {
          "output_type": "stream",
          "text": [
            "INFO:tensorflow:Clearing out eager caches\n"
          ],
          "name": "stderr"
        },
        {
          "output_type": "stream",
          "text": [
            "INFO:tensorflow:Finished initializing TPU system.\n"
          ],
          "name": "stdout"
        },
        {
          "output_type": "stream",
          "text": [
            "INFO:tensorflow:Finished initializing TPU system.\n"
          ],
          "name": "stderr"
        },
        {
          "output_type": "stream",
          "text": [
            "INFO:tensorflow:Found TPU system:\n"
          ],
          "name": "stdout"
        },
        {
          "output_type": "stream",
          "text": [
            "INFO:tensorflow:Found TPU system:\n"
          ],
          "name": "stderr"
        },
        {
          "output_type": "stream",
          "text": [
            "INFO:tensorflow:*** Num TPU Cores: 8\n"
          ],
          "name": "stdout"
        },
        {
          "output_type": "stream",
          "text": [
            "INFO:tensorflow:*** Num TPU Cores: 8\n"
          ],
          "name": "stderr"
        },
        {
          "output_type": "stream",
          "text": [
            "INFO:tensorflow:*** Num TPU Workers: 1\n"
          ],
          "name": "stdout"
        },
        {
          "output_type": "stream",
          "text": [
            "INFO:tensorflow:*** Num TPU Workers: 1\n"
          ],
          "name": "stderr"
        },
        {
          "output_type": "stream",
          "text": [
            "INFO:tensorflow:*** Num TPU Cores Per Worker: 8\n"
          ],
          "name": "stdout"
        },
        {
          "output_type": "stream",
          "text": [
            "INFO:tensorflow:*** Num TPU Cores Per Worker: 8\n"
          ],
          "name": "stderr"
        },
        {
          "output_type": "stream",
          "text": [
            "INFO:tensorflow:*** Available Device: _DeviceAttributes(/job:localhost/replica:0/task:0/device:CPU:0, CPU, 0, 0)\n"
          ],
          "name": "stdout"
        },
        {
          "output_type": "stream",
          "text": [
            "INFO:tensorflow:*** Available Device: _DeviceAttributes(/job:localhost/replica:0/task:0/device:CPU:0, CPU, 0, 0)\n"
          ],
          "name": "stderr"
        },
        {
          "output_type": "stream",
          "text": [
            "INFO:tensorflow:*** Available Device: _DeviceAttributes(/job:localhost/replica:0/task:0/device:XLA_CPU:0, XLA_CPU, 0, 0)\n"
          ],
          "name": "stdout"
        },
        {
          "output_type": "stream",
          "text": [
            "INFO:tensorflow:*** Available Device: _DeviceAttributes(/job:localhost/replica:0/task:0/device:XLA_CPU:0, XLA_CPU, 0, 0)\n"
          ],
          "name": "stderr"
        },
        {
          "output_type": "stream",
          "text": [
            "INFO:tensorflow:*** Available Device: _DeviceAttributes(/job:worker/replica:0/task:0/device:CPU:0, CPU, 0, 0)\n"
          ],
          "name": "stdout"
        },
        {
          "output_type": "stream",
          "text": [
            "INFO:tensorflow:*** Available Device: _DeviceAttributes(/job:worker/replica:0/task:0/device:CPU:0, CPU, 0, 0)\n"
          ],
          "name": "stderr"
        },
        {
          "output_type": "stream",
          "text": [
            "INFO:tensorflow:*** Available Device: _DeviceAttributes(/job:worker/replica:0/task:0/device:TPU:0, TPU, 0, 0)\n"
          ],
          "name": "stdout"
        },
        {
          "output_type": "stream",
          "text": [
            "INFO:tensorflow:*** Available Device: _DeviceAttributes(/job:worker/replica:0/task:0/device:TPU:0, TPU, 0, 0)\n"
          ],
          "name": "stderr"
        },
        {
          "output_type": "stream",
          "text": [
            "INFO:tensorflow:*** Available Device: _DeviceAttributes(/job:worker/replica:0/task:0/device:TPU:1, TPU, 0, 0)\n"
          ],
          "name": "stdout"
        },
        {
          "output_type": "stream",
          "text": [
            "INFO:tensorflow:*** Available Device: _DeviceAttributes(/job:worker/replica:0/task:0/device:TPU:1, TPU, 0, 0)\n"
          ],
          "name": "stderr"
        },
        {
          "output_type": "stream",
          "text": [
            "INFO:tensorflow:*** Available Device: _DeviceAttributes(/job:worker/replica:0/task:0/device:TPU:2, TPU, 0, 0)\n"
          ],
          "name": "stdout"
        },
        {
          "output_type": "stream",
          "text": [
            "INFO:tensorflow:*** Available Device: _DeviceAttributes(/job:worker/replica:0/task:0/device:TPU:2, TPU, 0, 0)\n"
          ],
          "name": "stderr"
        },
        {
          "output_type": "stream",
          "text": [
            "INFO:tensorflow:*** Available Device: _DeviceAttributes(/job:worker/replica:0/task:0/device:TPU:3, TPU, 0, 0)\n"
          ],
          "name": "stdout"
        },
        {
          "output_type": "stream",
          "text": [
            "INFO:tensorflow:*** Available Device: _DeviceAttributes(/job:worker/replica:0/task:0/device:TPU:3, TPU, 0, 0)\n"
          ],
          "name": "stderr"
        },
        {
          "output_type": "stream",
          "text": [
            "INFO:tensorflow:*** Available Device: _DeviceAttributes(/job:worker/replica:0/task:0/device:TPU:4, TPU, 0, 0)\n"
          ],
          "name": "stdout"
        },
        {
          "output_type": "stream",
          "text": [
            "INFO:tensorflow:*** Available Device: _DeviceAttributes(/job:worker/replica:0/task:0/device:TPU:4, TPU, 0, 0)\n"
          ],
          "name": "stderr"
        },
        {
          "output_type": "stream",
          "text": [
            "INFO:tensorflow:*** Available Device: _DeviceAttributes(/job:worker/replica:0/task:0/device:TPU:5, TPU, 0, 0)\n"
          ],
          "name": "stdout"
        },
        {
          "output_type": "stream",
          "text": [
            "INFO:tensorflow:*** Available Device: _DeviceAttributes(/job:worker/replica:0/task:0/device:TPU:5, TPU, 0, 0)\n"
          ],
          "name": "stderr"
        },
        {
          "output_type": "stream",
          "text": [
            "INFO:tensorflow:*** Available Device: _DeviceAttributes(/job:worker/replica:0/task:0/device:TPU:6, TPU, 0, 0)\n"
          ],
          "name": "stdout"
        },
        {
          "output_type": "stream",
          "text": [
            "INFO:tensorflow:*** Available Device: _DeviceAttributes(/job:worker/replica:0/task:0/device:TPU:6, TPU, 0, 0)\n"
          ],
          "name": "stderr"
        },
        {
          "output_type": "stream",
          "text": [
            "INFO:tensorflow:*** Available Device: _DeviceAttributes(/job:worker/replica:0/task:0/device:TPU:7, TPU, 0, 0)\n"
          ],
          "name": "stdout"
        },
        {
          "output_type": "stream",
          "text": [
            "INFO:tensorflow:*** Available Device: _DeviceAttributes(/job:worker/replica:0/task:0/device:TPU:7, TPU, 0, 0)\n"
          ],
          "name": "stderr"
        },
        {
          "output_type": "stream",
          "text": [
            "INFO:tensorflow:*** Available Device: _DeviceAttributes(/job:worker/replica:0/task:0/device:TPU_SYSTEM:0, TPU_SYSTEM, 0, 0)\n"
          ],
          "name": "stdout"
        },
        {
          "output_type": "stream",
          "text": [
            "INFO:tensorflow:*** Available Device: _DeviceAttributes(/job:worker/replica:0/task:0/device:TPU_SYSTEM:0, TPU_SYSTEM, 0, 0)\n"
          ],
          "name": "stderr"
        },
        {
          "output_type": "stream",
          "text": [
            "INFO:tensorflow:*** Available Device: _DeviceAttributes(/job:worker/replica:0/task:0/device:XLA_CPU:0, XLA_CPU, 0, 0)\n"
          ],
          "name": "stdout"
        },
        {
          "output_type": "stream",
          "text": [
            "INFO:tensorflow:*** Available Device: _DeviceAttributes(/job:worker/replica:0/task:0/device:XLA_CPU:0, XLA_CPU, 0, 0)\n"
          ],
          "name": "stderr"
        },
        {
          "output_type": "stream",
          "text": [
            "Number of accelerators:  8\n"
          ],
          "name": "stdout"
        }
      ]
    },
    {
      "cell_type": "markdown",
      "metadata": {
        "id": "qYLBF1ZTwIy5"
      },
      "source": [
        "##Montar o drive"
      ]
    },
    {
      "cell_type": "code",
      "metadata": {
        "id": "QCZV5MJ1wNxQ",
        "outputId": "2b880b7b-c51f-4570-eb67-2d74ea54a2f4",
        "colab": {
          "base_uri": "https://localhost:8080/"
        }
      },
      "source": [
        "from google.colab import drive\n",
        "drive.mount('/content/drive')\n",
        "\n",
        "#definir o working directory\n",
        "import os\n",
        "os.chdir('/content/drive/My Drive/Colab Notebooks/Dados_topico5')"
      ],
      "execution_count": null,
      "outputs": [
        {
          "output_type": "stream",
          "text": [
            "Drive already mounted at /content/drive; to attempt to forcibly remount, call drive.mount(\"/content/drive\", force_remount=True).\n"
          ],
          "name": "stdout"
        }
      ]
    },
    {
      "cell_type": "markdown",
      "metadata": {
        "id": "DWzg6rdxJ7k_"
      },
      "source": [
        "## Carregar dados cana (AP522) e preprocessamento dos dados"
      ]
    },
    {
      "cell_type": "code",
      "metadata": {
        "id": "J7hdccEiEdSu",
        "outputId": "81174dbb-ed60-400d-99bd-6cee50171cc6",
        "colab": {
          "base_uri": "https://localhost:8080/"
        }
      },
      "source": [
        "#importar o arquivo e criar o df\n",
        "df = pd.read_csv('fa084_tch_mult.csv')\n",
        "# Excluir 'espac'\n",
        "df.drop('espac',axis=1,inplace=True)\n",
        "# Excluir os registros com estágio de corte 7\n",
        "df = df[df.estagio!=7]\n",
        "# Considerar somente as três variedades mais frequentes e excluir as demais\n",
        "variedade_freq=df.variedade.value_counts().head(3)\n",
        "df = df.loc[df.variedade.isin(variedade_freq.index)]\n",
        "#encode atributos categoricos\n",
        "df = pd.get_dummies(df)\n",
        "# Separar atributos preditores(X) do atributo meta (y)\n",
        "y = df.tch\n",
        "X = df.drop('tch', axis=1)\n",
        "# Criar X_train, X_test, y_train, y_test com as proporções 70/30 e random_state = 2020\n",
        "X_train , X_test, y_train, y_test = train_test_split(X,y, test_size = 0.3, random_state = 2020)\n",
        "print(X_train.shape, X_test.shape, y_train.shape, y_test.shape)"
      ],
      "execution_count": null,
      "outputs": [
        {
          "output_type": "stream",
          "text": [
            "(5995, 16) (2570, 16) (5995,) (2570,)\n"
          ],
          "name": "stdout"
        }
      ]
    },
    {
      "cell_type": "code",
      "metadata": {
        "id": "SHv-WCIeJcrw"
      },
      "source": [
        "# Normalizar os conjuntos de treino e teste [0-1]\n",
        "\n",
        "def_scaler = MinMaxScaler().fit(X_train)\n",
        "X_train_norm = pd.DataFrame(def_scaler.transform(X_train))\n",
        "\n",
        "X_train_norm.rename(columns=dict(zip(\n",
        "    X_train_norm.columns.tolist(), X.columns.tolist())), inplace=True)\n",
        "\n",
        "X_test_norm = pd.DataFrame(def_scaler.transform(X_test))\n",
        "\n",
        "X_test_norm.rename(columns=dict(zip(\n",
        "    X_test_norm.columns.tolist(), X.columns.tolist())), inplace=True)"
      ],
      "execution_count": null,
      "outputs": []
    },
    {
      "cell_type": "markdown",
      "metadata": {
        "id": "zr1vXUru19Iw"
      },
      "source": [
        "##Rede Neural Sklearn (ANN)"
      ]
    },
    {
      "cell_type": "code",
      "metadata": {
        "id": "FArQJQAe1Vbh"
      },
      "source": [
        "# Importar pacote MLPRegressor (Multi Layer Perceptron)\n",
        "from sklearn.neural_network import MLPRegressor\n",
        "#Randomized Search\n",
        "from sklearn.model_selection import RandomizedSearchCV"
      ],
      "execution_count": null,
      "outputs": []
    },
    {
      "cell_type": "code",
      "metadata": {
        "id": "yYTEnvcy17To",
        "outputId": "4faf85a6-407d-4be1-85f3-60d3a567dbd9",
        "colab": {
          "base_uri": "https://localhost:8080/"
        }
      },
      "source": [
        "%%time\n",
        "n_layers_min=1\n",
        "n_layers_max=5\n",
        "neurons_min=50\n",
        "neurons_max=250\n",
        "\n",
        "def faixa(start, stop, step):\n",
        "  y=[]\n",
        "  for i in np.arange(n_layers_max):\n",
        "    x=[tuple(np.full(shape = i+1, fill_value= n)) for n in range(start, stop, step)]\n",
        "    y+=x\n",
        "  return y\n",
        "\n",
        "ANN=MLPRegressor(random_state=2020)\n",
        "param_range = [{'hidden_layer_sizes':faixa(neurons_min,neurons_max,10)}]      \n",
        "#Otimização de hiperparametros\n",
        "ANNRndSearch = RandomizedSearchCV(ANN,\n",
        "                                 param_distributions=param_range,\n",
        "                                 n_iter=10,\n",
        "                                 n_jobs=-1,\n",
        "                                 random_state=2020)\n",
        "ANNRndSearch.fit(X_train_norm, y_train)"
      ],
      "execution_count": null,
      "outputs": [
        {
          "output_type": "stream",
          "text": [
            "CPU times: user 1min 14s, sys: 31.9 s, total: 1min 46s\n",
            "Wall time: 16min 14s\n"
          ],
          "name": "stdout"
        },
        {
          "output_type": "stream",
          "text": [
            "/usr/local/lib/python3.6/dist-packages/sklearn/neural_network/_multilayer_perceptron.py:571: ConvergenceWarning: Stochastic Optimizer: Maximum iterations (200) reached and the optimization hasn't converged yet.\n",
            "  % self.max_iter, ConvergenceWarning)\n"
          ],
          "name": "stderr"
        }
      ]
    },
    {
      "cell_type": "code",
      "metadata": {
        "id": "cG5BKmhC6pmc"
      },
      "source": [
        "#Importar as metricas\n",
        "from sklearn.metrics import mean_squared_error\n",
        "from sklearn.metrics import mean_absolute_error"
      ],
      "execution_count": null,
      "outputs": []
    },
    {
      "cell_type": "code",
      "metadata": {
        "id": "N-1WEB1q52HU"
      },
      "source": [
        "#predição do modelo ANN\n",
        "y_pred = ANNRndSearch.predict(X_test_norm)"
      ],
      "execution_count": null,
      "outputs": []
    },
    {
      "cell_type": "code",
      "metadata": {
        "id": "Dc_vFlsGJrEY",
        "outputId": "466d706a-efaa-435d-f9d1-aa0dd42bc400",
        "colab": {
          "base_uri": "https://localhost:8080/"
        }
      },
      "source": [
        "# Após otimização e predição\n",
        "MAE_MLP = mean_absolute_error(y_test, y_pred)\n",
        "RMSE_MLP = np.sqrt(mean_squared_error(y_test, y_pred))\n",
        "\n",
        "print('MAE = ', MAE_MLP)\n",
        "print('RMSE = ', RMSE_MLP)"
      ],
      "execution_count": null,
      "outputs": [
        {
          "output_type": "stream",
          "text": [
            "MAE =  9.79222728528094\n",
            "RMSE =  13.127295549029657\n"
          ],
          "name": "stdout"
        }
      ]
    },
    {
      "cell_type": "markdown",
      "metadata": {
        "id": "peRJNZSX7V2j"
      },
      "source": [
        "##Resultados da Atividade 8 (AP522)\n",
        "O X-treme Gradient Boosting (XGB) se apresentou como modelo com melhor ajuste, com os menores valores de RMSE e MAE tanto na otimização randomica quanto em grade para o conjunto de dados 'fa084_tch_mult.csv'.\n",
        "\n",
        "![image.png](data:image/png;base64,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)"
      ]
    },
    {
      "cell_type": "markdown",
      "metadata": {
        "id": "JMk1BdXtKUI7"
      },
      "source": [
        "## Aplicação com TensorFlow"
      ]
    },
    {
      "cell_type": "markdown",
      "metadata": {
        "id": "uFhHp8eNzf6v"
      },
      "source": [
        "###Básico"
      ]
    },
    {
      "cell_type": "code",
      "metadata": {
        "id": "HXKcgCj0KW-T"
      },
      "source": [
        "# Definir a quantidade de atributos a serem utilizados no modelo\n",
        "\n",
        "input_shape = [X_train_norm.shape[1]]"
      ],
      "execution_count": null,
      "outputs": []
    },
    {
      "cell_type": "code",
      "metadata": {
        "id": "LsY9zujCLI5L"
      },
      "source": [
        "# Definir a estrutura da rede neural\n",
        "\n",
        "model = keras.Sequential([\n",
        "    layers.Dense(256, activation='relu', input_shape=input_shape),\n",
        "    layers.Dropout(0.2),\n",
        "    layers.BatchNormalization(),\n",
        "    layers.Dense(256, activation='relu'),\n",
        "    layers.Dropout(0.2),\n",
        "    layers.BatchNormalization(),    \n",
        "    layers.Dense(256, activation='relu'),\n",
        "    layers.BatchNormalization(),\n",
        "    layers.Dense(1),\n",
        "])"
      ],
      "execution_count": null,
      "outputs": []
    },
    {
      "cell_type": "code",
      "metadata": {
        "id": "ysnZsTb_LkUv"
      },
      "source": [
        "# Definir a função perda e otimizador\n",
        "\n",
        "model.compile(\n",
        "    optimizer='adam',\n",
        "    loss='mae'\n",
        ")"
      ],
      "execution_count": null,
      "outputs": []
    },
    {
      "cell_type": "code",
      "metadata": {
        "id": "2UzD4axbL6cS"
      },
      "source": [
        "# Treinar o modelo\n",
        "history = model.fit(\n",
        "    X_train_norm,y_train,\n",
        "    validation_data=(X_test_norm, y_test),\n",
        "    batch_size=i,\n",
        "    epochs=600,\n",
        "    )"
      ],
      "execution_count": null,
      "outputs": []
    },
    {
      "cell_type": "code",
      "metadata": {
        "id": "iGRWRFg1MXE2",
        "outputId": "201f67ee-924e-41ab-f38c-b274431a779f",
        "colab": {
          "base_uri": "https://localhost:8080/",
          "height": 299
        }
      },
      "source": [
        "history_df = pd.DataFrame(history.history)\n",
        "# Iniciar a plotagem a partir da época 5\n",
        "history_df.loc[5:, ['loss','val_loss']].plot();\n",
        "print(\"Minimum Validation Loss: {:0.4f}\".format(history_df['val_loss'].min()));\n",
        "print(\"Minimum Loss: {:0.4f}\".format(history_df['loss'].min()));"
      ],
      "execution_count": null,
      "outputs": [
        {
          "output_type": "stream",
          "text": [
            "Minimum Validation Loss: 11.4306\n",
            "Minimum Loss: 11.3926\n"
          ],
          "name": "stdout"
        },
        {
          "output_type": "display_data",
          "data": {
            "image/png": "[encoded data removed]",
            "text/plain": [
              "<Figure size 432x288 with 1 Axes>"
            ]
          },
          "metadata": {
            "tags": [],
            "needs_background": "light"
          }
        }
      ]
    },
    {
      "cell_type": "markdown",
      "metadata": {
        "id": "4Et1B3gdyV2G"
      },
      "source": [
        "###Variando o batch size"
      ]
    },
    {
      "cell_type": "code",
      "metadata": {
        "id": "bJ1Dmf1Nyhcl"
      },
      "source": [
        "# Parada antecipada e ajuste learning rate\n",
        "\n",
        "from tensorflow.keras.callbacks import EarlyStopping\n",
        "\n",
        "early_stopping = EarlyStopping(\n",
        "    min_delta=0.001, \n",
        "    patience=15, \n",
        "    restore_best_weights=True,\n",
        ")"
      ],
      "execution_count": null,
      "outputs": []
    },
    {
      "cell_type": "code",
      "metadata": {
        "id": "cfiwUKrgxQD1",
        "outputId": "39a451db-c6f7-47a0-aed5-796943112010",
        "colab": {
          "base_uri": "https://localhost:8080/"
        }
      },
      "source": [
        "histories = []\n",
        "for i in range(10,600,50):\n",
        "  history = model.fit(\n",
        "      X_train_norm,y_train,\n",
        "      validation_data=(X_test_norm, y_test),\n",
        "      batch_size=i,\n",
        "      epochs=600,\n",
        "      callbacks=[early_stopping],\n",
        "      )\n",
        "  histories.append(pd.DataFrame(history.history))"
      ],
      "execution_count": null,
      "outputs": [
        {
          "output_type": "stream",
          "text": [
            "Epoch 1/600\n",
            "600/600 [==============================] - 2s 4ms/step - loss: 30.9184 - val_loss: 15.5619\n",
            "Epoch 2/600\n",
            "600/600 [==============================] - 2s 3ms/step - loss: 14.9400 - val_loss: 14.2282\n",
            "Epoch 3/600\n",
            "600/600 [==============================] - 2s 4ms/step - loss: 14.6194 - val_loss: 14.1829\n",
            "Epoch 4/600\n",
            "600/600 [==============================] - 2s 4ms/step - loss: 14.1625 - val_loss: 13.6089\n",
            "Epoch 5/600\n",
            "600/600 [==============================] - 2s 3ms/step - loss: 14.3316 - val_loss: 13.7269\n",
            "Epoch 6/600\n",
            "600/600 [==============================] - 2s 3ms/step - loss: 13.9993 - val_loss: 13.3700\n",
            "Epoch 7/600\n",
            "600/600 [==============================] - 2s 3ms/step - loss: 13.8652 - val_loss: 13.1819\n",
            "Epoch 8/600\n",
            "600/600 [==============================] - 2s 3ms/step - loss: 13.9562 - val_loss: 13.2254\n",
            "Epoch 9/600\n",
            "600/600 [==============================] - 2s 4ms/step - loss: 13.8332 - val_loss: 13.1599\n",
            "Epoch 10/600\n",
            "600/600 [==============================] - 2s 3ms/step - loss: 13.6683 - val_loss: 13.0786\n",
            "Epoch 11/600\n",
            "600/600 [==============================] - 2s 3ms/step - loss: 13.6744 - val_loss: 12.8437\n",
            "Epoch 12/600\n",
            "600/600 [==============================] - 2s 3ms/step - loss: 13.6557 - val_loss: 13.2872\n",
            "Epoch 13/600\n",
            "600/600 [==============================] - 2s 4ms/step - loss: 13.5573 - val_loss: 13.1181\n",
            "Epoch 14/600\n",
            "600/600 [==============================] - 2s 4ms/step - loss: 13.6017 - val_loss: 13.2648\n",
            "Epoch 15/600\n",
            "600/600 [==============================] - 2s 4ms/step - loss: 13.4255 - val_loss: 12.7338\n",
            "Epoch 16/600\n",
            "600/600 [==============================] - 2s 4ms/step - loss: 13.4449 - val_loss: 13.2464\n",
            "Epoch 17/600\n",
            "600/600 [==============================] - 2s 4ms/step - loss: 13.3824 - val_loss: 12.9269\n",
            "Epoch 18/600\n",
            "600/600 [==============================] - 2s 4ms/step - loss: 13.4474 - val_loss: 12.7103\n",
            "Epoch 19/600\n",
            "600/600 [==============================] - 2s 3ms/step - loss: 13.5835 - val_loss: 13.1595\n",
            "Epoch 20/600\n",
            "600/600 [==============================] - 2s 4ms/step - loss: 13.3604 - val_loss: 13.2790\n",
            "Epoch 21/600\n",
            "600/600 [==============================] - 2s 3ms/step - loss: 13.3504 - val_loss: 13.3634\n",
            "Epoch 22/600\n",
            "600/600 [==============================] - 2s 4ms/step - loss: 13.3670 - val_loss: 13.1701\n",
            "Epoch 23/600\n",
            "600/600 [==============================] - 2s 3ms/step - loss: 13.3044 - val_loss: 13.1625\n",
            "Epoch 24/600\n",
            "600/600 [==============================] - 2s 3ms/step - loss: 13.2226 - val_loss: 12.7216\n",
            "Epoch 25/600\n",
            "600/600 [==============================] - 2s 3ms/step - loss: 13.1727 - val_loss: 12.5098\n",
            "Epoch 26/600\n",
            "600/600 [==============================] - 2s 4ms/step - loss: 13.0826 - val_loss: 12.8463\n",
            "Epoch 27/600\n",
            "600/600 [==============================] - 2s 4ms/step - loss: 13.1557 - val_loss: 12.8499\n",
            "Epoch 28/600\n",
            "600/600 [==============================] - 2s 3ms/step - loss: 13.0130 - val_loss: 12.8300\n",
            "Epoch 29/600\n",
            "600/600 [==============================] - 2s 3ms/step - loss: 12.9748 - val_loss: 13.6874\n",
            "Epoch 30/600\n",
            "600/600 [==============================] - 2s 3ms/step - loss: 13.0544 - val_loss: 12.8026\n",
            "Epoch 31/600\n",
            "600/600 [==============================] - 2s 4ms/step - loss: 13.2149 - val_loss: 12.7797\n",
            "Epoch 32/600\n",
            "600/600 [==============================] - 2s 4ms/step - loss: 13.1666 - val_loss: 12.3229\n",
            "Epoch 33/600\n",
            "600/600 [==============================] - 2s 3ms/step - loss: 13.0606 - val_loss: 12.7849\n",
            "Epoch 34/600\n",
            "600/600 [==============================] - 2s 4ms/step - loss: 12.9955 - val_loss: 12.9693\n",
            "Epoch 35/600\n",
            "600/600 [==============================] - 2s 4ms/step - loss: 12.9448 - val_loss: 12.5073\n",
            "Epoch 36/600\n",
            "600/600 [==============================] - 2s 3ms/step - loss: 13.0415 - val_loss: 12.5034\n",
            "Epoch 37/600\n",
            "600/600 [==============================] - 2s 3ms/step - loss: 12.9803 - val_loss: 12.8508\n",
            "Epoch 38/600\n",
            "600/600 [==============================] - 2s 3ms/step - loss: 13.0178 - val_loss: 14.8484\n",
            "Epoch 39/600\n",
            "600/600 [==============================] - 2s 3ms/step - loss: 13.1140 - val_loss: 13.2227\n",
            "Epoch 40/600\n",
            "600/600 [==============================] - 2s 4ms/step - loss: 13.0358 - val_loss: 13.0325\n",
            "Epoch 41/600\n",
            "600/600 [==============================] - 2s 3ms/step - loss: 12.9886 - val_loss: 13.2097\n",
            "Epoch 42/600\n",
            "600/600 [==============================] - 2s 3ms/step - loss: 12.9654 - val_loss: 13.3139\n",
            "Epoch 43/600\n",
            "600/600 [==============================] - 2s 3ms/step - loss: 12.8490 - val_loss: 12.6754\n",
            "Epoch 44/600\n",
            "600/600 [==============================] - 2s 4ms/step - loss: 12.9316 - val_loss: 12.9424\n",
            "Epoch 45/600\n",
            "600/600 [==============================] - 2s 4ms/step - loss: 12.9506 - val_loss: 13.5308\n",
            "Epoch 46/600\n",
            "600/600 [==============================] - 2s 4ms/step - loss: 12.7899 - val_loss: 14.0151\n",
            "Epoch 47/600\n",
            "600/600 [==============================] - 2s 4ms/step - loss: 12.7068 - val_loss: 13.4690\n",
            "Epoch 1/600\n",
            "100/100 [==============================] - 1s 8ms/step - loss: 12.3320 - val_loss: 11.9028\n",
            "Epoch 2/600\n",
            "100/100 [==============================] - 1s 6ms/step - loss: 11.9748 - val_loss: 11.7259\n",
            "Epoch 3/600\n",
            "100/100 [==============================] - 1s 6ms/step - loss: 11.9587 - val_loss: 11.8368\n",
            "Epoch 4/600\n",
            "100/100 [==============================] - 1s 7ms/step - loss: 11.9155 - val_loss: 11.6538\n",
            "Epoch 5/600\n",
            "100/100 [==============================] - 1s 6ms/step - loss: 11.7828 - val_loss: 11.5995\n",
            "Epoch 6/600\n",
            "100/100 [==============================] - 1s 6ms/step - loss: 11.6760 - val_loss: 11.5499\n",
            "Epoch 7/600\n",
            "100/100 [==============================] - 1s 6ms/step - loss: 11.7066 - val_loss: 11.4910\n",
            "Epoch 8/600\n",
            "100/100 [==============================] - 1s 6ms/step - loss: 11.6291 - val_loss: 11.4285\n",
            "Epoch 9/600\n",
            "100/100 [==============================] - 1s 6ms/step - loss: 11.5367 - val_loss: 11.4169\n",
            "Epoch 10/600\n",
            "100/100 [==============================] - 1s 6ms/step - loss: 11.5391 - val_loss: 11.3469\n",
            "Epoch 11/600\n",
            "100/100 [==============================] - 1s 6ms/step - loss: 11.5062 - val_loss: 11.3353\n",
            "Epoch 12/600\n",
            "100/100 [==============================] - 1s 6ms/step - loss: 11.3803 - val_loss: 11.3417\n",
            "Epoch 13/600\n",
            "100/100 [==============================] - 1s 6ms/step - loss: 11.3773 - val_loss: 11.2483\n",
            "Epoch 14/600\n",
            "100/100 [==============================] - 1s 6ms/step - loss: 11.3149 - val_loss: 11.2029\n",
            "Epoch 15/600\n",
            "100/100 [==============================] - 1s 6ms/step - loss: 11.2595 - val_loss: 11.1705\n",
            "Epoch 16/600\n",
            "100/100 [==============================] - 1s 6ms/step - loss: 11.1391 - val_loss: 11.1355\n",
            "Epoch 17/600\n",
            "100/100 [==============================] - 1s 6ms/step - loss: 11.1438 - val_loss: 10.9514\n",
            "Epoch 18/600\n",
            "100/100 [==============================] - 1s 6ms/step - loss: 11.2287 - val_loss: 11.0160\n",
            "Epoch 19/600\n",
            "100/100 [==============================] - 1s 7ms/step - loss: 11.2664 - val_loss: 10.9961\n",
            "Epoch 20/600\n",
            "100/100 [==============================] - 1s 6ms/step - loss: 11.0399 - val_loss: 11.0579\n",
            "Epoch 21/600\n",
            "100/100 [==============================] - 1s 6ms/step - loss: 11.0317 - val_loss: 10.9835\n",
            "Epoch 22/600\n",
            "100/100 [==============================] - 1s 6ms/step - loss: 10.9921 - val_loss: 10.9449\n",
            "Epoch 23/600\n",
            "100/100 [==============================] - 1s 6ms/step - loss: 11.0303 - val_loss: 10.9853\n",
            "Epoch 24/600\n",
            "100/100 [==============================] - 1s 6ms/step - loss: 11.0099 - val_loss: 10.9465\n",
            "Epoch 25/600\n",
            "100/100 [==============================] - 1s 6ms/step - loss: 10.9326 - val_loss: 10.9300\n",
            "Epoch 26/600\n",
            "100/100 [==============================] - 1s 6ms/step - loss: 10.8721 - val_loss: 10.9354\n",
            "Epoch 27/600\n",
            "100/100 [==============================] - 1s 6ms/step - loss: 10.7914 - val_loss: 10.7222\n",
            "Epoch 28/600\n",
            "100/100 [==============================] - 1s 6ms/step - loss: 10.9017 - val_loss: 10.7883\n",
            "Epoch 29/600\n",
            "100/100 [==============================] - 1s 6ms/step - loss: 10.7716 - val_loss: 10.7041\n",
            "Epoch 30/600\n",
            "100/100 [==============================] - 1s 6ms/step - loss: 10.6609 - val_loss: 10.5837\n",
            "Epoch 31/600\n",
            "100/100 [==============================] - 1s 6ms/step - loss: 10.7104 - val_loss: 10.7411\n",
            "Epoch 32/600\n",
            "100/100 [==============================] - 1s 6ms/step - loss: 10.5681 - val_loss: 10.5448\n",
            "Epoch 33/600\n",
            "100/100 [==============================] - 1s 6ms/step - loss: 10.6076 - val_loss: 10.6306\n",
            "Epoch 34/600\n",
            "100/100 [==============================] - 1s 6ms/step - loss: 10.4981 - val_loss: 10.7395\n",
            "Epoch 35/600\n",
            "100/100 [==============================] - 1s 6ms/step - loss: 10.5775 - val_loss: 10.6048\n",
            "Epoch 36/600\n",
            "100/100 [==============================] - 1s 6ms/step - loss: 10.6109 - val_loss: 10.5900\n",
            "Epoch 37/600\n",
            "100/100 [==============================] - 1s 6ms/step - loss: 10.4719 - val_loss: 10.6612\n",
            "Epoch 38/600\n",
            "100/100 [==============================] - 1s 5ms/step - loss: 10.5919 - val_loss: 10.3766\n",
            "Epoch 39/600\n",
            "100/100 [==============================] - 1s 6ms/step - loss: 10.4200 - val_loss: 10.5056\n",
            "Epoch 40/600\n",
            "100/100 [==============================] - 1s 6ms/step - loss: 10.4680 - val_loss: 10.5854\n",
            "Epoch 41/600\n",
            "100/100 [==============================] - 1s 5ms/step - loss: 10.4066 - val_loss: 10.4508\n",
            "Epoch 42/600\n",
            "100/100 [==============================] - 1s 5ms/step - loss: 10.4201 - val_loss: 10.3095\n",
            "Epoch 43/600\n",
            "100/100 [==============================] - 1s 5ms/step - loss: 10.3712 - val_loss: 10.5561\n",
            "Epoch 44/600\n",
            "100/100 [==============================] - 1s 5ms/step - loss: 10.3861 - val_loss: 10.4087\n",
            "Epoch 45/600\n",
            "100/100 [==============================] - 1s 6ms/step - loss: 10.3487 - val_loss: 10.2844\n",
            "Epoch 46/600\n",
            "100/100 [==============================] - 1s 6ms/step - loss: 10.3223 - val_loss: 10.3819\n",
            "Epoch 47/600\n",
            "100/100 [==============================] - 1s 6ms/step - loss: 10.2665 - val_loss: 10.1996\n",
            "Epoch 48/600\n",
            "100/100 [==============================] - 1s 6ms/step - loss: 10.1850 - val_loss: 10.0835\n",
            "Epoch 49/600\n",
            "100/100 [==============================] - 1s 5ms/step - loss: 10.2064 - val_loss: 10.2790\n",
            "Epoch 50/600\n",
            "100/100 [==============================] - 1s 5ms/step - loss: 10.1247 - val_loss: 10.1728\n",
            "Epoch 51/600\n",
            "100/100 [==============================] - 1s 6ms/step - loss: 10.0822 - val_loss: 10.2103\n",
            "Epoch 52/600\n",
            "100/100 [==============================] - 1s 6ms/step - loss: 10.1761 - val_loss: 9.9983\n",
            "Epoch 53/600\n",
            "100/100 [==============================] - 1s 6ms/step - loss: 9.9924 - val_loss: 10.2212\n",
            "Epoch 54/600\n",
            "100/100 [==============================] - 1s 6ms/step - loss: 10.1781 - val_loss: 10.0184\n",
            "Epoch 55/600\n",
            "100/100 [==============================] - 1s 6ms/step - loss: 9.9833 - val_loss: 9.9654\n",
            "Epoch 56/600\n",
            "100/100 [==============================] - 1s 6ms/step - loss: 10.0305 - val_loss: 9.8067\n",
            "Epoch 57/600\n",
            "100/100 [==============================] - 1s 6ms/step - loss: 9.9431 - val_loss: 10.1905\n",
            "Epoch 58/600\n",
            "100/100 [==============================] - 1s 6ms/step - loss: 9.9461 - val_loss: 9.8657\n",
            "Epoch 59/600\n",
            "100/100 [==============================] - 1s 6ms/step - loss: 9.9933 - val_loss: 9.9015\n",
            "Epoch 60/600\n",
            "100/100 [==============================] - 1s 6ms/step - loss: 9.8759 - val_loss: 9.9165\n",
            "Epoch 61/600\n",
            "100/100 [==============================] - 1s 6ms/step - loss: 9.7751 - val_loss: 9.9838\n",
            "Epoch 62/600\n",
            "100/100 [==============================] - 1s 6ms/step - loss: 9.8672 - val_loss: 9.8965\n",
            "Epoch 63/600\n",
            "100/100 [==============================] - 1s 6ms/step - loss: 9.7430 - val_loss: 9.8265\n",
            "Epoch 64/600\n",
            "100/100 [==============================] - 1s 6ms/step - loss: 9.9252 - val_loss: 9.6551\n",
            "Epoch 65/600\n",
            "100/100 [==============================] - 1s 6ms/step - loss: 9.9095 - val_loss: 9.6447\n",
            "Epoch 66/600\n",
            "100/100 [==============================] - 1s 6ms/step - loss: 9.8578 - val_loss: 9.8938\n",
            "Epoch 67/600\n",
            "100/100 [==============================] - 1s 6ms/step - loss: 9.9593 - val_loss: 10.0593\n",
            "Epoch 68/600\n",
            "100/100 [==============================] - 1s 5ms/step - loss: 9.8297 - val_loss: 9.7116\n",
            "Epoch 69/600\n",
            "100/100 [==============================] - 1s 6ms/step - loss: 9.6400 - val_loss: 9.8818\n",
            "Epoch 70/600\n",
            "100/100 [==============================] - 1s 6ms/step - loss: 9.6148 - val_loss: 9.8810\n",
            "Epoch 71/600\n",
            "100/100 [==============================] - 1s 6ms/step - loss: 9.7602 - val_loss: 9.6951\n",
            "Epoch 72/600\n",
            "100/100 [==============================] - 1s 6ms/step - loss: 9.5150 - val_loss: 9.7353\n",
            "Epoch 73/600\n",
            "100/100 [==============================] - 1s 6ms/step - loss: 9.7019 - val_loss: 9.6411\n",
            "Epoch 74/600\n",
            "100/100 [==============================] - 1s 6ms/step - loss: 9.6244 - val_loss: 9.5516\n",
            "Epoch 75/600\n",
            "100/100 [==============================] - 1s 6ms/step - loss: 9.6561 - val_loss: 9.7139\n",
            "Epoch 76/600\n",
            "100/100 [==============================] - 1s 6ms/step - loss: 9.5928 - val_loss: 9.4854\n",
            "Epoch 77/600\n",
            "100/100 [==============================] - 1s 6ms/step - loss: 9.5441 - val_loss: 9.8147\n",
            "Epoch 78/600\n",
            "100/100 [==============================] - 1s 6ms/step - loss: 9.6725 - val_loss: 9.6058\n",
            "Epoch 79/600\n",
            "100/100 [==============================] - 1s 6ms/step - loss: 9.5386 - val_loss: 9.5140\n",
            "Epoch 80/600\n",
            "100/100 [==============================] - 1s 6ms/step - loss: 9.5859 - val_loss: 9.4136\n",
            "Epoch 81/600\n",
            "100/100 [==============================] - 1s 6ms/step - loss: 9.5331 - val_loss: 9.4414\n",
            "Epoch 82/600\n",
            "100/100 [==============================] - 1s 6ms/step - loss: 9.5857 - val_loss: 9.4922\n",
            "Epoch 83/600\n",
            "100/100 [==============================] - 1s 6ms/step - loss: 9.5406 - val_loss: 9.5796\n",
            "Epoch 84/600\n",
            "100/100 [==============================] - 1s 6ms/step - loss: 9.5449 - val_loss: 9.6945\n",
            "Epoch 85/600\n",
            "100/100 [==============================] - 1s 6ms/step - loss: 9.3958 - val_loss: 9.5911\n",
            "Epoch 86/600\n",
            "100/100 [==============================] - 1s 6ms/step - loss: 9.4374 - val_loss: 9.5374\n",
            "Epoch 87/600\n",
            "100/100 [==============================] - 1s 6ms/step - loss: 9.3621 - val_loss: 9.4631\n",
            "Epoch 88/600\n",
            "100/100 [==============================] - 1s 6ms/step - loss: 9.4983 - val_loss: 9.4292\n",
            "Epoch 89/600\n",
            "100/100 [==============================] - 1s 6ms/step - loss: 9.5083 - val_loss: 9.4627\n",
            "Epoch 90/600\n",
            "100/100 [==============================] - 1s 6ms/step - loss: 9.4116 - val_loss: 9.2472\n",
            "Epoch 91/600\n",
            "100/100 [==============================] - 1s 6ms/step - loss: 9.3509 - val_loss: 9.2734\n",
            "Epoch 92/600\n",
            "100/100 [==============================] - 1s 6ms/step - loss: 9.4560 - val_loss: 9.2315\n",
            "Epoch 93/600\n",
            "100/100 [==============================] - 1s 6ms/step - loss: 9.3230 - val_loss: 9.4899\n",
            "Epoch 94/600\n",
            "100/100 [==============================] - 1s 6ms/step - loss: 9.4157 - val_loss: 9.2610\n",
            "Epoch 95/600\n",
            "100/100 [==============================] - 1s 6ms/step - loss: 9.3791 - val_loss: 9.4268\n",
            "Epoch 96/600\n",
            "100/100 [==============================] - 1s 6ms/step - loss: 9.3083 - val_loss: 9.2220\n",
            "Epoch 97/600\n",
            "100/100 [==============================] - 1s 6ms/step - loss: 9.2815 - val_loss: 9.2424\n",
            "Epoch 98/600\n",
            "100/100 [==============================] - 1s 6ms/step - loss: 9.3085 - val_loss: 9.1960\n",
            "Epoch 99/600\n",
            "100/100 [==============================] - 1s 6ms/step - loss: 9.4312 - val_loss: 9.1722\n",
            "Epoch 100/600\n",
            "100/100 [==============================] - 1s 6ms/step - loss: 9.1668 - val_loss: 9.1996\n",
            "Epoch 101/600\n",
            "100/100 [==============================] - 1s 6ms/step - loss: 9.2053 - val_loss: 9.4079\n",
            "Epoch 102/600\n",
            "100/100 [==============================] - 1s 6ms/step - loss: 9.2379 - val_loss: 9.1509\n",
            "Epoch 103/600\n",
            "100/100 [==============================] - 1s 5ms/step - loss: 9.1288 - val_loss: 9.2842\n",
            "Epoch 104/600\n",
            "100/100 [==============================] - 1s 6ms/step - loss: 9.1636 - val_loss: 9.2031\n",
            "Epoch 105/600\n",
            "100/100 [==============================] - 1s 6ms/step - loss: 9.1417 - val_loss: 9.2803\n",
            "Epoch 106/600\n",
            "100/100 [==============================] - 1s 6ms/step - loss: 9.1478 - val_loss: 9.1810\n",
            "Epoch 107/600\n",
            "100/100 [==============================] - 1s 5ms/step - loss: 9.1645 - val_loss: 9.0475\n",
            "Epoch 108/600\n",
            "100/100 [==============================] - 1s 6ms/step - loss: 9.1924 - val_loss: 9.1350\n",
            "Epoch 109/600\n",
            "100/100 [==============================] - 1s 6ms/step - loss: 9.0518 - val_loss: 9.0062\n",
            "Epoch 110/600\n",
            "100/100 [==============================] - 1s 6ms/step - loss: 9.0570 - val_loss: 8.9451\n",
            "Epoch 111/600\n",
            "100/100 [==============================] - 1s 6ms/step - loss: 8.9932 - val_loss: 9.0487\n",
            "Epoch 112/600\n",
            "100/100 [==============================] - 1s 6ms/step - loss: 9.0517 - val_loss: 9.0647\n",
            "Epoch 113/600\n",
            "100/100 [==============================] - 1s 6ms/step - loss: 9.1052 - val_loss: 9.0286\n",
            "Epoch 114/600\n",
            "100/100 [==============================] - 1s 6ms/step - loss: 9.0476 - val_loss: 9.1827\n",
            "Epoch 115/600\n",
            "100/100 [==============================] - 1s 6ms/step - loss: 9.0878 - val_loss: 8.9315\n",
            "Epoch 116/600\n",
            "100/100 [==============================] - 1s 6ms/step - loss: 9.0311 - val_loss: 9.1822\n",
            "Epoch 117/600\n",
            "100/100 [==============================] - 1s 5ms/step - loss: 9.0535 - val_loss: 8.9707\n",
            "Epoch 118/600\n",
            "100/100 [==============================] - 1s 6ms/step - loss: 9.0835 - val_loss: 9.0233\n",
            "Epoch 119/600\n",
            "100/100 [==============================] - 1s 6ms/step - loss: 9.0895 - val_loss: 8.8219\n",
            "Epoch 120/600\n",
            "100/100 [==============================] - 1s 6ms/step - loss: 9.0545 - val_loss: 9.0230\n",
            "Epoch 121/600\n",
            "100/100 [==============================] - 1s 6ms/step - loss: 8.9983 - val_loss: 8.8774\n",
            "Epoch 122/600\n",
            "100/100 [==============================] - 1s 6ms/step - loss: 9.1032 - val_loss: 8.9874\n",
            "Epoch 123/600\n",
            "100/100 [==============================] - 1s 6ms/step - loss: 8.9721 - val_loss: 8.9307\n",
            "Epoch 124/600\n",
            "100/100 [==============================] - 1s 6ms/step - loss: 8.9885 - val_loss: 8.8871\n",
            "Epoch 125/600\n",
            "100/100 [==============================] - 1s 6ms/step - loss: 8.9749 - val_loss: 8.8564\n",
            "Epoch 126/600\n",
            "100/100 [==============================] - 1s 6ms/step - loss: 8.8580 - val_loss: 8.9089\n",
            "Epoch 127/600\n",
            "100/100 [==============================] - 1s 6ms/step - loss: 8.9604 - val_loss: 8.9646\n",
            "Epoch 128/600\n",
            "100/100 [==============================] - 1s 5ms/step - loss: 8.8817 - val_loss: 9.0116\n",
            "Epoch 129/600\n",
            "100/100 [==============================] - 1s 6ms/step - loss: 8.8921 - val_loss: 8.8807\n",
            "Epoch 130/600\n",
            "100/100 [==============================] - 1s 6ms/step - loss: 9.0224 - val_loss: 8.8432\n",
            "Epoch 131/600\n",
            "100/100 [==============================] - 1s 6ms/step - loss: 8.9222 - val_loss: 8.7808\n",
            "Epoch 132/600\n",
            "100/100 [==============================] - 1s 6ms/step - loss: 8.8906 - val_loss: 8.8683\n",
            "Epoch 133/600\n",
            "100/100 [==============================] - 1s 6ms/step - loss: 8.7327 - val_loss: 8.7141\n",
            "Epoch 134/600\n",
            "100/100 [==============================] - 1s 6ms/step - loss: 8.8934 - val_loss: 8.9452\n",
            "Epoch 135/600\n",
            "100/100 [==============================] - 1s 6ms/step - loss: 8.8649 - val_loss: 8.6984\n",
            "Epoch 136/600\n",
            "100/100 [==============================] - 1s 6ms/step - loss: 8.9180 - val_loss: 8.7300\n",
            "Epoch 137/600\n",
            "100/100 [==============================] - 1s 6ms/step - loss: 8.8860 - val_loss: 8.6801\n",
            "Epoch 138/600\n",
            "100/100 [==============================] - 1s 6ms/step - loss: 8.9538 - val_loss: 8.7784\n",
            "Epoch 139/600\n",
            "100/100 [==============================] - 1s 6ms/step - loss: 8.8370 - val_loss: 8.6725\n",
            "Epoch 140/600\n",
            "100/100 [==============================] - 1s 6ms/step - loss: 8.7455 - val_loss: 8.6690\n",
            "Epoch 141/600\n",
            "100/100 [==============================] - 1s 6ms/step - loss: 8.6800 - val_loss: 8.7303\n",
            "Epoch 142/600\n",
            "100/100 [==============================] - 1s 6ms/step - loss: 8.9233 - val_loss: 8.6334\n",
            "Epoch 143/600\n",
            "100/100 [==============================] - 1s 6ms/step - loss: 8.8397 - val_loss: 8.8364\n",
            "Epoch 144/600\n",
            "100/100 [==============================] - 1s 6ms/step - loss: 8.7237 - val_loss: 8.4636\n",
            "Epoch 145/600\n",
            "100/100 [==============================] - 1s 6ms/step - loss: 8.8581 - val_loss: 8.6665\n",
            "Epoch 146/600\n",
            "100/100 [==============================] - 1s 6ms/step - loss: 8.8000 - val_loss: 8.7644\n",
            "Epoch 147/600\n",
            "100/100 [==============================] - 1s 6ms/step - loss: 8.7358 - val_loss: 8.8098\n",
            "Epoch 148/600\n",
            "100/100 [==============================] - 1s 6ms/step - loss: 8.7142 - val_loss: 8.6124\n",
            "Epoch 149/600\n",
            "100/100 [==============================] - 1s 6ms/step - loss: 8.6519 - val_loss: 8.6947\n",
            "Epoch 150/600\n",
            "100/100 [==============================] - 1s 6ms/step - loss: 8.8196 - val_loss: 8.8067\n",
            "Epoch 151/600\n",
            "100/100 [==============================] - 1s 6ms/step - loss: 8.7763 - val_loss: 8.6294\n",
            "Epoch 152/600\n",
            "100/100 [==============================] - 1s 6ms/step - loss: 8.7219 - val_loss: 8.7419\n",
            "Epoch 153/600\n",
            "100/100 [==============================] - 1s 6ms/step - loss: 8.6901 - val_loss: 8.6616\n",
            "Epoch 154/600\n",
            "100/100 [==============================] - 1s 6ms/step - loss: 8.7819 - val_loss: 8.7037\n",
            "Epoch 155/600\n",
            "100/100 [==============================] - 1s 6ms/step - loss: 8.7361 - val_loss: 8.8185\n",
            "Epoch 156/600\n",
            "100/100 [==============================] - 1s 6ms/step - loss: 8.6893 - val_loss: 8.6813\n",
            "Epoch 157/600\n",
            "100/100 [==============================] - 1s 6ms/step - loss: 8.6760 - val_loss: 8.5384\n",
            "Epoch 158/600\n",
            "100/100 [==============================] - 1s 6ms/step - loss: 8.6743 - val_loss: 8.5369\n",
            "Epoch 159/600\n",
            "100/100 [==============================] - 1s 6ms/step - loss: 8.6023 - val_loss: 8.5703\n",
            "Epoch 1/600\n",
            "55/55 [==============================] - 0s 9ms/step - loss: 8.3049 - val_loss: 8.4313\n",
            "Epoch 2/600\n",
            "55/55 [==============================] - 0s 8ms/step - loss: 8.2448 - val_loss: 8.2641\n",
            "Epoch 3/600\n",
            "55/55 [==============================] - 0s 8ms/step - loss: 8.3585 - val_loss: 8.4542\n",
            "Epoch 4/600\n",
            "55/55 [==============================] - 0s 8ms/step - loss: 8.3235 - val_loss: 8.3197\n",
            "Epoch 5/600\n",
            "55/55 [==============================] - 0s 8ms/step - loss: 8.2121 - val_loss: 8.3575\n",
            "Epoch 6/600\n",
            "55/55 [==============================] - 0s 7ms/step - loss: 8.2256 - val_loss: 8.2940\n",
            "Epoch 7/600\n",
            "55/55 [==============================] - 0s 8ms/step - loss: 8.3283 - val_loss: 8.3484\n",
            "Epoch 8/600\n",
            "55/55 [==============================] - 0s 8ms/step - loss: 8.1187 - val_loss: 8.3778\n",
            "Epoch 9/600\n",
            "55/55 [==============================] - 0s 8ms/step - loss: 8.0478 - val_loss: 8.2647\n",
            "Epoch 10/600\n",
            "55/55 [==============================] - 0s 8ms/step - loss: 8.2659 - val_loss: 8.3139\n",
            "Epoch 11/600\n",
            "55/55 [==============================] - 0s 8ms/step - loss: 8.2331 - val_loss: 8.4546\n",
            "Epoch 12/600\n",
            "55/55 [==============================] - 0s 8ms/step - loss: 8.1677 - val_loss: 8.2536\n",
            "Epoch 13/600\n",
            "55/55 [==============================] - 0s 8ms/step - loss: 8.1485 - val_loss: 8.3248\n",
            "Epoch 14/600\n",
            "55/55 [==============================] - 0s 8ms/step - loss: 8.2008 - val_loss: 8.2959\n",
            "Epoch 15/600\n",
            "55/55 [==============================] - 0s 8ms/step - loss: 8.0594 - val_loss: 8.2790\n",
            "Epoch 16/600\n",
            "55/55 [==============================] - 0s 8ms/step - loss: 8.1973 - val_loss: 8.2305\n",
            "Epoch 17/600\n",
            "55/55 [==============================] - 0s 8ms/step - loss: 8.1256 - val_loss: 8.2567\n",
            "Epoch 18/600\n",
            "55/55 [==============================] - 0s 8ms/step - loss: 8.1733 - val_loss: 8.2496\n",
            "Epoch 19/600\n",
            "55/55 [==============================] - 0s 8ms/step - loss: 8.1022 - val_loss: 8.1781\n",
            "Epoch 20/600\n",
            "55/55 [==============================] - 0s 8ms/step - loss: 8.1208 - val_loss: 8.3396\n",
            "Epoch 21/600\n",
            "55/55 [==============================] - 0s 8ms/step - loss: 8.1280 - val_loss: 8.3057\n",
            "Epoch 22/600\n",
            "55/55 [==============================] - 0s 8ms/step - loss: 8.0162 - val_loss: 8.2771\n",
            "Epoch 23/600\n",
            "55/55 [==============================] - 0s 8ms/step - loss: 8.0963 - val_loss: 8.2157\n",
            "Epoch 24/600\n",
            "55/55 [==============================] - 0s 8ms/step - loss: 8.0584 - val_loss: 8.3791\n",
            "Epoch 25/600\n",
            "55/55 [==============================] - 0s 8ms/step - loss: 8.1285 - val_loss: 8.1745\n",
            "Epoch 26/600\n",
            "55/55 [==============================] - 0s 7ms/step - loss: 7.9628 - val_loss: 8.3179\n",
            "Epoch 27/600\n",
            "55/55 [==============================] - 0s 8ms/step - loss: 8.2288 - val_loss: 8.2083\n",
            "Epoch 28/600\n",
            "55/55 [==============================] - 0s 8ms/step - loss: 8.0639 - val_loss: 8.1310\n",
            "Epoch 29/600\n",
            "55/55 [==============================] - 0s 8ms/step - loss: 8.0703 - val_loss: 8.2416\n",
            "Epoch 30/600\n",
            "55/55 [==============================] - 0s 8ms/step - loss: 8.1058 - val_loss: 8.2788\n",
            "Epoch 31/600\n",
            "55/55 [==============================] - 0s 8ms/step - loss: 8.1791 - val_loss: 8.2193\n",
            "Epoch 32/600\n",
            "55/55 [==============================] - 0s 8ms/step - loss: 8.0350 - val_loss: 8.3083\n",
            "Epoch 33/600\n",
            "55/55 [==============================] - 0s 8ms/step - loss: 8.1435 - val_loss: 8.2694\n",
            "Epoch 34/600\n",
            "55/55 [==============================] - 0s 8ms/step - loss: 7.9751 - val_loss: 8.2122\n",
            "Epoch 35/600\n",
            "55/55 [==============================] - 0s 8ms/step - loss: 8.0726 - val_loss: 8.2507\n",
            "Epoch 36/600\n",
            "55/55 [==============================] - 0s 8ms/step - loss: 8.0514 - val_loss: 8.1606\n",
            "Epoch 37/600\n",
            "55/55 [==============================] - 0s 8ms/step - loss: 8.1099 - val_loss: 8.1235\n",
            "Epoch 38/600\n",
            "55/55 [==============================] - 0s 8ms/step - loss: 7.9050 - val_loss: 8.1206\n",
            "Epoch 39/600\n",
            "55/55 [==============================] - 0s 8ms/step - loss: 8.1036 - val_loss: 8.0464\n",
            "Epoch 40/600\n",
            "55/55 [==============================] - 0s 7ms/step - loss: 7.8232 - val_loss: 8.2212\n",
            "Epoch 41/600\n",
            "55/55 [==============================] - 0s 8ms/step - loss: 7.9972 - val_loss: 8.2044\n",
            "Epoch 42/600\n",
            "55/55 [==============================] - 0s 8ms/step - loss: 8.0897 - val_loss: 8.2592\n",
            "Epoch 43/600\n",
            "55/55 [==============================] - 0s 8ms/step - loss: 8.0489 - val_loss: 8.3057\n",
            "Epoch 44/600\n",
            "55/55 [==============================] - 0s 8ms/step - loss: 8.0093 - val_loss: 8.1440\n",
            "Epoch 45/600\n",
            "55/55 [==============================] - 0s 8ms/step - loss: 7.9257 - val_loss: 8.0293\n",
            "Epoch 46/600\n",
            "55/55 [==============================] - 0s 8ms/step - loss: 8.0188 - val_loss: 8.1108\n",
            "Epoch 47/600\n",
            "55/55 [==============================] - 0s 8ms/step - loss: 8.1174 - val_loss: 8.1558\n",
            "Epoch 48/600\n",
            "55/55 [==============================] - 0s 8ms/step - loss: 7.9955 - val_loss: 8.0771\n",
            "Epoch 49/600\n",
            "55/55 [==============================] - 0s 8ms/step - loss: 7.9897 - val_loss: 8.0841\n",
            "Epoch 50/600\n",
            "55/55 [==============================] - 0s 8ms/step - loss: 7.9216 - val_loss: 8.1867\n",
            "Epoch 51/600\n",
            "55/55 [==============================] - 0s 8ms/step - loss: 7.8035 - val_loss: 7.9621\n",
            "Epoch 52/600\n",
            "55/55 [==============================] - 0s 8ms/step - loss: 7.8119 - val_loss: 8.1908\n",
            "Epoch 53/600\n",
            "55/55 [==============================] - 0s 8ms/step - loss: 7.9928 - val_loss: 8.0044\n",
            "Epoch 54/600\n",
            "55/55 [==============================] - 0s 8ms/step - loss: 7.8696 - val_loss: 8.0876\n",
            "Epoch 55/600\n",
            "55/55 [==============================] - 0s 8ms/step - loss: 7.9439 - val_loss: 8.1829\n",
            "Epoch 56/600\n",
            "55/55 [==============================] - 0s 8ms/step - loss: 7.8920 - val_loss: 8.1976\n",
            "Epoch 57/600\n",
            "55/55 [==============================] - 0s 8ms/step - loss: 7.9149 - val_loss: 8.0904\n",
            "Epoch 58/600\n",
            "55/55 [==============================] - 0s 8ms/step - loss: 7.9712 - val_loss: 7.9050\n",
            "Epoch 59/600\n",
            "55/55 [==============================] - 0s 8ms/step - loss: 7.9676 - val_loss: 8.1831\n",
            "Epoch 60/600\n",
            "55/55 [==============================] - 0s 8ms/step - loss: 7.8865 - val_loss: 8.1228\n",
            "Epoch 61/600\n",
            "55/55 [==============================] - 0s 8ms/step - loss: 7.8753 - val_loss: 8.0518\n",
            "Epoch 62/600\n",
            "55/55 [==============================] - 0s 7ms/step - loss: 7.9656 - val_loss: 8.1209\n",
            "Epoch 63/600\n",
            "55/55 [==============================] - 0s 8ms/step - loss: 7.9360 - val_loss: 7.9534\n",
            "Epoch 64/600\n",
            "55/55 [==============================] - 0s 8ms/step - loss: 7.9703 - val_loss: 8.1290\n",
            "Epoch 65/600\n",
            "55/55 [==============================] - 0s 8ms/step - loss: 7.9701 - val_loss: 8.1200\n",
            "Epoch 66/600\n",
            "55/55 [==============================] - 0s 8ms/step - loss: 7.8877 - val_loss: 7.8723\n",
            "Epoch 67/600\n",
            "55/55 [==============================] - 0s 8ms/step - loss: 7.8172 - val_loss: 7.9747\n",
            "Epoch 68/600\n",
            "55/55 [==============================] - 0s 8ms/step - loss: 7.8647 - val_loss: 8.0104\n",
            "Epoch 69/600\n",
            "55/55 [==============================] - 0s 8ms/step - loss: 7.8269 - val_loss: 8.1067\n",
            "Epoch 70/600\n",
            "55/55 [==============================] - 0s 8ms/step - loss: 7.9331 - val_loss: 7.9243\n",
            "Epoch 71/600\n",
            "55/55 [==============================] - 0s 7ms/step - loss: 7.9176 - val_loss: 8.0319\n",
            "Epoch 72/600\n",
            "55/55 [==============================] - 0s 8ms/step - loss: 7.8636 - val_loss: 7.9748\n",
            "Epoch 73/600\n",
            "55/55 [==============================] - 0s 7ms/step - loss: 7.8400 - val_loss: 7.9785\n",
            "Epoch 74/600\n",
            "55/55 [==============================] - 0s 8ms/step - loss: 7.8563 - val_loss: 8.0668\n",
            "Epoch 75/600\n",
            "55/55 [==============================] - 0s 8ms/step - loss: 7.8857 - val_loss: 8.0482\n",
            "Epoch 76/600\n",
            "55/55 [==============================] - 0s 8ms/step - loss: 7.7635 - val_loss: 8.0344\n",
            "Epoch 77/600\n",
            "55/55 [==============================] - 0s 8ms/step - loss: 7.8568 - val_loss: 7.9577\n",
            "Epoch 78/600\n",
            "55/55 [==============================] - 0s 8ms/step - loss: 7.8052 - val_loss: 7.7932\n",
            "Epoch 79/600\n",
            "55/55 [==============================] - 0s 8ms/step - loss: 7.7550 - val_loss: 7.9769\n",
            "Epoch 80/600\n",
            "55/55 [==============================] - 0s 8ms/step - loss: 7.8081 - val_loss: 7.9038\n",
            "Epoch 81/600\n",
            "55/55 [==============================] - 0s 8ms/step - loss: 7.6600 - val_loss: 7.8873\n",
            "Epoch 82/600\n",
            "55/55 [==============================] - 0s 8ms/step - loss: 7.8116 - val_loss: 8.1013\n",
            "Epoch 83/600\n",
            "55/55 [==============================] - 0s 8ms/step - loss: 7.7726 - val_loss: 8.0426\n",
            "Epoch 84/600\n",
            "55/55 [==============================] - 0s 8ms/step - loss: 7.7940 - val_loss: 8.0106\n",
            "Epoch 85/600\n",
            "55/55 [==============================] - 0s 8ms/step - loss: 7.8731 - val_loss: 7.9695\n",
            "Epoch 86/600\n",
            "55/55 [==============================] - 0s 8ms/step - loss: 7.8027 - val_loss: 8.0565\n",
            "Epoch 87/600\n",
            "55/55 [==============================] - 0s 8ms/step - loss: 7.7454 - val_loss: 8.0859\n",
            "Epoch 88/600\n",
            "55/55 [==============================] - 0s 8ms/step - loss: 7.8138 - val_loss: 8.0895\n",
            "Epoch 89/600\n",
            "55/55 [==============================] - 0s 8ms/step - loss: 7.8845 - val_loss: 8.1188\n",
            "Epoch 90/600\n",
            "55/55 [==============================] - 0s 8ms/step - loss: 7.8513 - val_loss: 7.9148\n",
            "Epoch 91/600\n",
            "55/55 [==============================] - 0s 8ms/step - loss: 7.8025 - val_loss: 7.9965\n",
            "Epoch 92/600\n",
            "55/55 [==============================] - 0s 9ms/step - loss: 7.9642 - val_loss: 7.8997\n",
            "Epoch 93/600\n",
            "55/55 [==============================] - 0s 8ms/step - loss: 7.7337 - val_loss: 7.9143\n",
            "Epoch 1/600\n",
            "38/38 [==============================] - 0s 11ms/step - loss: 7.5166 - val_loss: 7.7566\n",
            "Epoch 2/600\n",
            "38/38 [==============================] - 0s 10ms/step - loss: 7.4501 - val_loss: 7.7734\n",
            "Epoch 3/600\n",
            "38/38 [==============================] - 0s 10ms/step - loss: 7.5050 - val_loss: 7.9421\n",
            "Epoch 4/600\n",
            "38/38 [==============================] - 0s 10ms/step - loss: 7.4246 - val_loss: 7.8884\n",
            "Epoch 5/600\n",
            "38/38 [==============================] - 0s 10ms/step - loss: 7.5377 - val_loss: 7.7899\n",
            "Epoch 6/600\n",
            "38/38 [==============================] - 0s 9ms/step - loss: 7.4968 - val_loss: 7.8489\n",
            "Epoch 7/600\n",
            "38/38 [==============================] - 0s 10ms/step - loss: 7.5640 - val_loss: 7.8451\n",
            "Epoch 8/600\n",
            "38/38 [==============================] - 0s 10ms/step - loss: 7.5384 - val_loss: 7.7300\n",
            "Epoch 9/600\n",
            "38/38 [==============================] - 0s 11ms/step - loss: 7.5263 - val_loss: 7.9256\n",
            "Epoch 10/600\n",
            "38/38 [==============================] - 0s 10ms/step - loss: 7.5096 - val_loss: 7.7573\n",
            "Epoch 11/600\n",
            "38/38 [==============================] - 0s 10ms/step - loss: 7.4801 - val_loss: 7.7382\n",
            "Epoch 12/600\n",
            "38/38 [==============================] - 0s 10ms/step - loss: 7.4303 - val_loss: 7.7449\n",
            "Epoch 13/600\n",
            "38/38 [==============================] - 0s 9ms/step - loss: 7.4279 - val_loss: 7.7826\n",
            "Epoch 14/600\n",
            "38/38 [==============================] - 0s 10ms/step - loss: 7.3998 - val_loss: 7.7816\n",
            "Epoch 15/600\n",
            "38/38 [==============================] - 0s 10ms/step - loss: 7.4949 - val_loss: 7.7723\n",
            "Epoch 16/600\n",
            "38/38 [==============================] - 0s 10ms/step - loss: 7.5071 - val_loss: 7.8125\n",
            "Epoch 17/600\n",
            "38/38 [==============================] - 0s 10ms/step - loss: 7.5369 - val_loss: 7.7395\n",
            "Epoch 18/600\n",
            "38/38 [==============================] - 0s 11ms/step - loss: 7.5338 - val_loss: 7.7953\n",
            "Epoch 19/600\n",
            "38/38 [==============================] - 0s 9ms/step - loss: 7.3023 - val_loss: 7.7527\n",
            "Epoch 20/600\n",
            "38/38 [==============================] - 0s 10ms/step - loss: 7.4133 - val_loss: 7.7949\n",
            "Epoch 21/600\n",
            "38/38 [==============================] - 0s 10ms/step - loss: 7.4256 - val_loss: 7.8438\n",
            "Epoch 22/600\n",
            "38/38 [==============================] - 0s 10ms/step - loss: 7.4567 - val_loss: 7.8378\n",
            "Epoch 23/600\n",
            "38/38 [==============================] - 0s 10ms/step - loss: 7.3928 - val_loss: 7.7171\n",
            "Epoch 24/600\n",
            "38/38 [==============================] - 0s 9ms/step - loss: 7.4172 - val_loss: 7.7707\n",
            "Epoch 25/600\n",
            "38/38 [==============================] - 0s 9ms/step - loss: 7.3296 - val_loss: 7.7559\n",
            "Epoch 26/600\n",
            "38/38 [==============================] - 0s 10ms/step - loss: 7.3656 - val_loss: 7.8310\n",
            "Epoch 27/600\n",
            "38/38 [==============================] - 0s 10ms/step - loss: 7.2928 - val_loss: 7.8323\n",
            "Epoch 28/600\n",
            "38/38 [==============================] - 0s 10ms/step - loss: 7.4433 - val_loss: 7.6185\n",
            "Epoch 29/600\n",
            "38/38 [==============================] - 0s 9ms/step - loss: 7.4279 - val_loss: 7.6642\n",
            "Epoch 30/600\n",
            "38/38 [==============================] - 0s 10ms/step - loss: 7.2904 - val_loss: 7.7663\n",
            "Epoch 31/600\n",
            "38/38 [==============================] - 0s 10ms/step - loss: 7.3649 - val_loss: 7.8111\n",
            "Epoch 32/600\n",
            "38/38 [==============================] - 0s 10ms/step - loss: 7.3895 - val_loss: 7.7039\n",
            "Epoch 33/600\n",
            "38/38 [==============================] - 0s 10ms/step - loss: 7.4170 - val_loss: 7.8008\n",
            "Epoch 34/600\n",
            "38/38 [==============================] - 0s 9ms/step - loss: 7.4225 - val_loss: 7.7354\n",
            "Epoch 35/600\n",
            "38/38 [==============================] - 0s 10ms/step - loss: 7.4362 - val_loss: 7.6854\n",
            "Epoch 36/600\n",
            "38/38 [==============================] - 0s 9ms/step - loss: 7.4956 - val_loss: 7.6935\n",
            "Epoch 37/600\n",
            "38/38 [==============================] - 0s 10ms/step - loss: 7.3440 - val_loss: 7.6842\n",
            "Epoch 38/600\n",
            "38/38 [==============================] - 0s 9ms/step - loss: 7.4257 - val_loss: 7.8185\n",
            "Epoch 39/600\n",
            "38/38 [==============================] - 0s 10ms/step - loss: 7.3233 - val_loss: 7.7299\n",
            "Epoch 40/600\n",
            "38/38 [==============================] - 0s 10ms/step - loss: 7.3637 - val_loss: 7.7348\n",
            "Epoch 41/600\n",
            "38/38 [==============================] - 0s 10ms/step - loss: 7.3843 - val_loss: 7.6620\n",
            "Epoch 42/600\n",
            "38/38 [==============================] - 0s 10ms/step - loss: 7.3986 - val_loss: 7.7162\n",
            "Epoch 43/600\n",
            "38/38 [==============================] - 0s 9ms/step - loss: 7.4386 - val_loss: 7.8279\n",
            "Epoch 1/600\n",
            "29/29 [==============================] - 0s 14ms/step - loss: 7.2971 - val_loss: 7.7056\n",
            "Epoch 2/600\n",
            "29/29 [==============================] - 0s 11ms/step - loss: 7.2801 - val_loss: 7.6490\n",
            "Epoch 3/600\n",
            "29/29 [==============================] - 0s 12ms/step - loss: 7.2048 - val_loss: 7.6416\n",
            "Epoch 4/600\n",
            "29/29 [==============================] - 0s 11ms/step - loss: 7.3684 - val_loss: 7.6559\n",
            "Epoch 5/600\n",
            "29/29 [==============================] - 0s 11ms/step - loss: 7.2233 - val_loss: 7.6225\n",
            "Epoch 6/600\n",
            "29/29 [==============================] - 0s 12ms/step - loss: 7.2498 - val_loss: 7.6856\n",
            "Epoch 7/600\n",
            "29/29 [==============================] - 0s 12ms/step - loss: 7.3272 - val_loss: 7.6371\n",
            "Epoch 8/600\n",
            "29/29 [==============================] - 0s 11ms/step - loss: 7.2281 - val_loss: 7.6416\n",
            "Epoch 9/600\n",
            "29/29 [==============================] - 0s 12ms/step - loss: 7.3098 - val_loss: 7.6482\n",
            "Epoch 10/600\n",
            "29/29 [==============================] - 0s 11ms/step - loss: 7.3650 - val_loss: 7.6575\n",
            "Epoch 11/600\n",
            "29/29 [==============================] - 0s 12ms/step - loss: 7.1126 - val_loss: 7.6745\n",
            "Epoch 12/600\n",
            "29/29 [==============================] - 0s 11ms/step - loss: 7.2662 - val_loss: 7.6166\n",
            "Epoch 13/600\n",
            "29/29 [==============================] - 0s 11ms/step - loss: 7.1356 - val_loss: 7.6004\n",
            "Epoch 14/600\n",
            "29/29 [==============================] - 0s 11ms/step - loss: 7.1739 - val_loss: 7.6536\n",
            "Epoch 15/600\n",
            "29/29 [==============================] - 0s 11ms/step - loss: 7.1634 - val_loss: 7.6338\n",
            "Epoch 16/600\n",
            "29/29 [==============================] - 0s 12ms/step - loss: 7.1714 - val_loss: 7.5834\n",
            "Epoch 17/600\n",
            "29/29 [==============================] - 0s 11ms/step - loss: 7.2311 - val_loss: 7.7009\n",
            "Epoch 18/600\n",
            "29/29 [==============================] - 0s 12ms/step - loss: 7.2182 - val_loss: 7.6279\n",
            "Epoch 19/600\n",
            "29/29 [==============================] - 0s 11ms/step - loss: 7.1832 - val_loss: 7.6345\n",
            "Epoch 20/600\n",
            "29/29 [==============================] - 0s 11ms/step - loss: 7.1916 - val_loss: 7.6005\n",
            "Epoch 21/600\n",
            "29/29 [==============================] - 0s 12ms/step - loss: 7.1436 - val_loss: 7.5946\n",
            "Epoch 22/600\n",
            "29/29 [==============================] - 0s 10ms/step - loss: 7.2482 - val_loss: 7.6087\n",
            "Epoch 23/600\n",
            "29/29 [==============================] - 0s 11ms/step - loss: 7.2706 - val_loss: 7.6038\n",
            "Epoch 24/600\n",
            "29/29 [==============================] - 0s 10ms/step - loss: 7.1441 - val_loss: 7.6266\n",
            "Epoch 25/600\n",
            "29/29 [==============================] - 0s 11ms/step - loss: 7.0606 - val_loss: 7.7201\n",
            "Epoch 26/600\n",
            "29/29 [==============================] - 0s 12ms/step - loss: 7.1656 - val_loss: 7.5990\n",
            "Epoch 27/600\n",
            "29/29 [==============================] - 0s 12ms/step - loss: 7.1406 - val_loss: 7.6148\n",
            "Epoch 28/600\n",
            "29/29 [==============================] - 0s 11ms/step - loss: 7.1064 - val_loss: 7.5579\n",
            "Epoch 29/600\n",
            "29/29 [==============================] - 0s 12ms/step - loss: 7.3423 - val_loss: 7.5836\n",
            "Epoch 30/600\n",
            "29/29 [==============================] - 0s 12ms/step - loss: 7.0997 - val_loss: 7.4841\n",
            "Epoch 31/600\n",
            "29/29 [==============================] - 0s 12ms/step - loss: 7.0197 - val_loss: 7.5472\n",
            "Epoch 32/600\n",
            "29/29 [==============================] - 0s 11ms/step - loss: 7.2051 - val_loss: 7.6222\n",
            "Epoch 33/600\n",
            "29/29 [==============================] - 0s 12ms/step - loss: 7.1651 - val_loss: 7.5883\n",
            "Epoch 34/600\n",
            "29/29 [==============================] - 0s 12ms/step - loss: 7.1271 - val_loss: 7.5358\n",
            "Epoch 35/600\n",
            "29/29 [==============================] - 0s 12ms/step - loss: 7.1448 - val_loss: 7.6189\n",
            "Epoch 36/600\n",
            "29/29 [==============================] - 0s 11ms/step - loss: 7.1365 - val_loss: 7.6058\n",
            "Epoch 37/600\n",
            "29/29 [==============================] - 0s 11ms/step - loss: 7.1216 - val_loss: 7.6337\n",
            "Epoch 38/600\n",
            "29/29 [==============================] - 0s 12ms/step - loss: 7.1622 - val_loss: 7.5571\n",
            "Epoch 39/600\n",
            "29/29 [==============================] - 0s 11ms/step - loss: 7.1342 - val_loss: 7.5880\n",
            "Epoch 40/600\n",
            "29/29 [==============================] - 0s 12ms/step - loss: 6.9977 - val_loss: 7.5434\n",
            "Epoch 41/600\n",
            "29/29 [==============================] - 0s 12ms/step - loss: 7.2244 - val_loss: 7.4662\n",
            "Epoch 42/600\n",
            "29/29 [==============================] - 0s 11ms/step - loss: 7.1202 - val_loss: 7.5716\n",
            "Epoch 43/600\n",
            "29/29 [==============================] - 0s 12ms/step - loss: 7.1470 - val_loss: 7.5740\n",
            "Epoch 44/600\n",
            "29/29 [==============================] - 0s 11ms/step - loss: 7.0856 - val_loss: 7.5228\n",
            "Epoch 45/600\n",
            "29/29 [==============================] - 0s 11ms/step - loss: 7.0458 - val_loss: 7.5876\n",
            "Epoch 46/600\n",
            "29/29 [==============================] - 0s 11ms/step - loss: 7.0532 - val_loss: 7.5906\n",
            "Epoch 47/600\n",
            "29/29 [==============================] - 0s 12ms/step - loss: 7.1034 - val_loss: 7.5501\n",
            "Epoch 48/600\n",
            "29/29 [==============================] - 0s 11ms/step - loss: 7.0990 - val_loss: 7.3949\n",
            "Epoch 49/600\n",
            "29/29 [==============================] - 0s 12ms/step - loss: 7.1599 - val_loss: 7.4678\n",
            "Epoch 50/600\n",
            "29/29 [==============================] - 0s 11ms/step - loss: 7.1007 - val_loss: 7.4701\n",
            "Epoch 51/600\n",
            "29/29 [==============================] - 0s 11ms/step - loss: 6.9671 - val_loss: 7.6015\n",
            "Epoch 52/600\n",
            "29/29 [==============================] - 0s 11ms/step - loss: 7.0445 - val_loss: 7.5178\n",
            "Epoch 53/600\n",
            "29/29 [==============================] - 0s 12ms/step - loss: 7.0478 - val_loss: 7.4839\n",
            "Epoch 54/600\n",
            "29/29 [==============================] - 0s 11ms/step - loss: 7.1244 - val_loss: 7.5899\n",
            "Epoch 55/600\n",
            "29/29 [==============================] - 0s 12ms/step - loss: 7.1021 - val_loss: 7.6738\n",
            "Epoch 56/600\n",
            "29/29 [==============================] - 0s 11ms/step - loss: 7.1060 - val_loss: 7.5278\n",
            "Epoch 57/600\n",
            "29/29 [==============================] - 0s 12ms/step - loss: 7.0790 - val_loss: 7.5472\n",
            "Epoch 58/600\n",
            "29/29 [==============================] - 0s 11ms/step - loss: 7.1666 - val_loss: 7.6656\n",
            "Epoch 59/600\n",
            "29/29 [==============================] - 0s 12ms/step - loss: 7.1318 - val_loss: 7.5672\n",
            "Epoch 60/600\n",
            "29/29 [==============================] - 0s 11ms/step - loss: 7.1352 - val_loss: 7.4378\n",
            "Epoch 61/600\n",
            "29/29 [==============================] - 0s 12ms/step - loss: 7.0333 - val_loss: 7.5974\n",
            "Epoch 62/600\n",
            "29/29 [==============================] - 0s 11ms/step - loss: 6.9819 - val_loss: 7.5132\n",
            "Epoch 63/600\n",
            "29/29 [==============================] - 0s 11ms/step - loss: 7.1073 - val_loss: 7.6456\n",
            "Epoch 1/600\n",
            "24/24 [==============================] - 0s 16ms/step - loss: 6.9209 - val_loss: 7.6249\n",
            "Epoch 2/600\n",
            "24/24 [==============================] - 0s 13ms/step - loss: 8.0055 - val_loss: 8.4529\n",
            "Epoch 3/600\n",
            "24/24 [==============================] - 0s 13ms/step - loss: 7.7689 - val_loss: 8.1480\n",
            "Epoch 4/600\n",
            "24/24 [==============================] - 0s 14ms/step - loss: 7.4778 - val_loss: 7.8006\n",
            "Epoch 5/600\n",
            "24/24 [==============================] - 0s 13ms/step - loss: 7.5298 - val_loss: 7.9784\n",
            "Epoch 6/600\n",
            "24/24 [==============================] - 0s 13ms/step - loss: 7.3564 - val_loss: 7.7065\n",
            "Epoch 7/600\n",
            "24/24 [==============================] - 0s 14ms/step - loss: 7.3134 - val_loss: 7.7927\n",
            "Epoch 8/600\n",
            "24/24 [==============================] - 0s 12ms/step - loss: 7.1841 - val_loss: 7.7174\n",
            "Epoch 9/600\n",
            "24/24 [==============================] - 0s 14ms/step - loss: 7.2457 - val_loss: 7.7807\n",
            "Epoch 10/600\n",
            "24/24 [==============================] - 0s 13ms/step - loss: 7.4038 - val_loss: 7.8807\n",
            "Epoch 11/600\n",
            "24/24 [==============================] - 0s 14ms/step - loss: 7.3511 - val_loss: 7.5829\n",
            "Epoch 12/600\n",
            "24/24 [==============================] - 0s 13ms/step - loss: 7.3322 - val_loss: 7.6531\n",
            "Epoch 13/600\n",
            "24/24 [==============================] - 0s 14ms/step - loss: 7.4266 - val_loss: 7.6486\n",
            "Epoch 14/600\n",
            "24/24 [==============================] - 0s 12ms/step - loss: 7.4446 - val_loss: 7.6727\n",
            "Epoch 15/600\n",
            "24/24 [==============================] - 0s 14ms/step - loss: 7.3143 - val_loss: 7.8462\n",
            "Epoch 16/600\n",
            "24/24 [==============================] - 0s 14ms/step - loss: 7.3318 - val_loss: 7.7686\n",
            "Epoch 17/600\n",
            "24/24 [==============================] - 0s 13ms/step - loss: 7.3072 - val_loss: 7.7802\n",
            "Epoch 18/600\n",
            "24/24 [==============================] - 0s 14ms/step - loss: 7.4760 - val_loss: 7.7414\n",
            "Epoch 19/600\n",
            "24/24 [==============================] - 0s 13ms/step - loss: 7.3178 - val_loss: 7.6506\n",
            "Epoch 20/600\n",
            "24/24 [==============================] - 0s 13ms/step - loss: 7.2245 - val_loss: 7.6150\n",
            "Epoch 21/600\n",
            "24/24 [==============================] - 0s 14ms/step - loss: 7.2887 - val_loss: 7.7842\n",
            "Epoch 22/600\n",
            "24/24 [==============================] - 0s 14ms/step - loss: 7.3837 - val_loss: 7.5640\n",
            "Epoch 23/600\n",
            "24/24 [==============================] - 0s 13ms/step - loss: 7.1435 - val_loss: 7.5471\n",
            "Epoch 24/600\n",
            "24/24 [==============================] - 0s 13ms/step - loss: 7.1589 - val_loss: 7.5317\n",
            "Epoch 25/600\n",
            "24/24 [==============================] - 0s 14ms/step - loss: 7.2402 - val_loss: 7.7282\n",
            "Epoch 26/600\n",
            "24/24 [==============================] - 0s 14ms/step - loss: 7.2199 - val_loss: 7.6769\n",
            "Epoch 27/600\n",
            "24/24 [==============================] - 0s 13ms/step - loss: 7.1359 - val_loss: 7.6561\n",
            "Epoch 28/600\n",
            "24/24 [==============================] - 0s 14ms/step - loss: 7.1055 - val_loss: 7.5005\n",
            "Epoch 29/600\n",
            "24/24 [==============================] - 0s 13ms/step - loss: 7.0826 - val_loss: 7.5917\n",
            "Epoch 30/600\n",
            "24/24 [==============================] - 0s 13ms/step - loss: 7.1375 - val_loss: 7.5511\n",
            "Epoch 31/600\n",
            "24/24 [==============================] - 0s 14ms/step - loss: 7.1173 - val_loss: 7.5343\n",
            "Epoch 32/600\n",
            "24/24 [==============================] - 0s 13ms/step - loss: 7.1806 - val_loss: 7.7520\n",
            "Epoch 33/600\n",
            "24/24 [==============================] - 0s 14ms/step - loss: 7.1931 - val_loss: 7.5911\n",
            "Epoch 34/600\n",
            "24/24 [==============================] - 0s 14ms/step - loss: 7.1542 - val_loss: 7.5977\n",
            "Epoch 35/600\n",
            "24/24 [==============================] - 0s 14ms/step - loss: 7.1809 - val_loss: 7.5410\n",
            "Epoch 36/600\n",
            "24/24 [==============================] - 0s 14ms/step - loss: 6.9986 - val_loss: 7.4775\n",
            "Epoch 37/600\n",
            "24/24 [==============================] - 0s 14ms/step - loss: 6.9599 - val_loss: 7.4998\n",
            "Epoch 38/600\n",
            "24/24 [==============================] - 0s 14ms/step - loss: 7.1761 - val_loss: 7.6367\n",
            "Epoch 39/600\n",
            "24/24 [==============================] - 0s 14ms/step - loss: 7.1627 - val_loss: 7.5193\n",
            "Epoch 40/600\n",
            "24/24 [==============================] - 0s 13ms/step - loss: 7.1756 - val_loss: 7.5132\n",
            "Epoch 41/600\n",
            "24/24 [==============================] - 0s 14ms/step - loss: 7.0054 - val_loss: 7.6458\n",
            "Epoch 42/600\n",
            "24/24 [==============================] - 0s 13ms/step - loss: 7.2391 - val_loss: 7.6414\n",
            "Epoch 43/600\n",
            "24/24 [==============================] - 0s 14ms/step - loss: 7.1722 - val_loss: 7.6069\n",
            "Epoch 44/600\n",
            "24/24 [==============================] - 0s 14ms/step - loss: 6.9583 - val_loss: 7.5050\n",
            "Epoch 45/600\n",
            "24/24 [==============================] - 0s 14ms/step - loss: 6.8912 - val_loss: 7.6175\n",
            "Epoch 46/600\n",
            "24/24 [==============================] - 0s 13ms/step - loss: 7.2160 - val_loss: 7.4581\n",
            "Epoch 47/600\n",
            "24/24 [==============================] - 0s 13ms/step - loss: 7.1609 - val_loss: 7.5659\n",
            "Epoch 48/600\n",
            "24/24 [==============================] - 0s 14ms/step - loss: 7.2288 - val_loss: 7.7402\n",
            "Epoch 49/600\n",
            "24/24 [==============================] - 0s 13ms/step - loss: 7.3131 - val_loss: 7.6796\n",
            "Epoch 50/600\n",
            "24/24 [==============================] - 0s 13ms/step - loss: 7.2189 - val_loss: 7.5578\n",
            "Epoch 51/600\n",
            "24/24 [==============================] - 0s 14ms/step - loss: 7.0137 - val_loss: 7.5229\n",
            "Epoch 52/600\n",
            "24/24 [==============================] - 0s 13ms/step - loss: 6.9949 - val_loss: 7.4784\n",
            "Epoch 53/600\n",
            "24/24 [==============================] - 0s 14ms/step - loss: 7.1099 - val_loss: 7.4704\n",
            "Epoch 54/600\n",
            "24/24 [==============================] - 0s 14ms/step - loss: 7.1649 - val_loss: 7.5057\n",
            "Epoch 55/600\n",
            "24/24 [==============================] - 0s 13ms/step - loss: 6.9869 - val_loss: 7.4124\n",
            "Epoch 56/600\n",
            "24/24 [==============================] - 0s 13ms/step - loss: 6.9064 - val_loss: 7.4684\n",
            "Epoch 57/600\n",
            "24/24 [==============================] - 0s 13ms/step - loss: 7.1253 - val_loss: 7.5508\n",
            "Epoch 58/600\n",
            "24/24 [==============================] - 0s 13ms/step - loss: 7.1738 - val_loss: 7.4646\n",
            "Epoch 59/600\n",
            "24/24 [==============================] - 0s 13ms/step - loss: 7.1676 - val_loss: 7.6152\n",
            "Epoch 60/600\n",
            "24/24 [==============================] - 0s 14ms/step - loss: 7.1519 - val_loss: 7.6272\n",
            "Epoch 61/600\n",
            "24/24 [==============================] - 0s 13ms/step - loss: 7.2566 - val_loss: 7.6206\n",
            "Epoch 62/600\n",
            "24/24 [==============================] - 0s 14ms/step - loss: 7.1751 - val_loss: 7.6937\n",
            "Epoch 63/600\n",
            "24/24 [==============================] - 0s 14ms/step - loss: 7.0552 - val_loss: 7.6210\n",
            "Epoch 64/600\n",
            "24/24 [==============================] - 0s 13ms/step - loss: 7.1803 - val_loss: 7.7440\n",
            "Epoch 65/600\n",
            "24/24 [==============================] - 0s 13ms/step - loss: 7.1599 - val_loss: 7.6347\n",
            "Epoch 66/600\n",
            "24/24 [==============================] - 0s 13ms/step - loss: 7.0888 - val_loss: 7.5763\n",
            "Epoch 67/600\n",
            "24/24 [==============================] - 0s 13ms/step - loss: 7.3149 - val_loss: 7.6969\n",
            "Epoch 68/600\n",
            "24/24 [==============================] - 0s 13ms/step - loss: 7.3258 - val_loss: 7.5962\n",
            "Epoch 69/600\n",
            "24/24 [==============================] - 0s 14ms/step - loss: 7.2012 - val_loss: 7.6803\n",
            "Epoch 70/600\n",
            "24/24 [==============================] - 0s 14ms/step - loss: 7.2792 - val_loss: 7.6181\n",
            "Epoch 1/600\n",
            "20/20 [==============================] - 0s 18ms/step - loss: 6.9913 - val_loss: 7.4547\n",
            "Epoch 2/600\n",
            "20/20 [==============================] - 0s 16ms/step - loss: 6.9147 - val_loss: 7.4197\n",
            "Epoch 3/600\n",
            "20/20 [==============================] - 0s 15ms/step - loss: 6.9277 - val_loss: 7.5108\n",
            "Epoch 4/600\n",
            "20/20 [==============================] - 0s 16ms/step - loss: 6.7974 - val_loss: 7.4031\n",
            "Epoch 5/600\n",
            "20/20 [==============================] - 0s 17ms/step - loss: 6.7540 - val_loss: 7.4351\n",
            "Epoch 6/600\n",
            "20/20 [==============================] - 0s 15ms/step - loss: 6.7784 - val_loss: 7.3622\n",
            "Epoch 7/600\n",
            "20/20 [==============================] - 0s 16ms/step - loss: 6.7063 - val_loss: 7.3420\n",
            "Epoch 8/600\n",
            "20/20 [==============================] - 0s 15ms/step - loss: 6.7743 - val_loss: 7.2896\n",
            "Epoch 9/600\n",
            "20/20 [==============================] - 0s 15ms/step - loss: 6.6884 - val_loss: 7.3576\n",
            "Epoch 10/600\n",
            "20/20 [==============================] - 0s 16ms/step - loss: 6.8604 - val_loss: 7.3748\n",
            "Epoch 11/600\n",
            "20/20 [==============================] - 0s 15ms/step - loss: 6.7063 - val_loss: 7.3826\n",
            "Epoch 12/600\n",
            "20/20 [==============================] - 0s 16ms/step - loss: 6.7304 - val_loss: 7.3957\n",
            "Epoch 13/600\n",
            "20/20 [==============================] - 0s 16ms/step - loss: 6.7303 - val_loss: 7.2656\n",
            "Epoch 14/600\n",
            "20/20 [==============================] - 0s 17ms/step - loss: 6.8277 - val_loss: 7.2416\n",
            "Epoch 15/600\n",
            "20/20 [==============================] - 0s 16ms/step - loss: 6.7402 - val_loss: 7.3382\n",
            "Epoch 16/600\n",
            "20/20 [==============================] - 0s 17ms/step - loss: 6.6867 - val_loss: 7.2300\n",
            "Epoch 17/600\n",
            "20/20 [==============================] - 0s 15ms/step - loss: 6.7731 - val_loss: 7.2929\n",
            "Epoch 18/600\n",
            "20/20 [==============================] - 0s 15ms/step - loss: 6.7272 - val_loss: 7.2315\n",
            "Epoch 19/600\n",
            "20/20 [==============================] - 0s 16ms/step - loss: 6.7169 - val_loss: 7.2831\n",
            "Epoch 20/600\n",
            "20/20 [==============================] - 0s 15ms/step - loss: 6.7548 - val_loss: 7.2547\n",
            "Epoch 21/600\n",
            "20/20 [==============================] - 0s 15ms/step - loss: 6.6257 - val_loss: 7.2911\n",
            "Epoch 22/600\n",
            "20/20 [==============================] - 0s 14ms/step - loss: 6.7221 - val_loss: 7.2831\n",
            "Epoch 23/600\n",
            "20/20 [==============================] - 0s 15ms/step - loss: 6.6090 - val_loss: 7.1941\n",
            "Epoch 24/600\n",
            "20/20 [==============================] - 0s 16ms/step - loss: 6.6825 - val_loss: 7.3306\n",
            "Epoch 25/600\n",
            "20/20 [==============================] - 0s 16ms/step - loss: 6.7334 - val_loss: 7.1846\n",
            "Epoch 26/600\n",
            "20/20 [==============================] - 0s 16ms/step - loss: 6.5888 - val_loss: 7.3409\n",
            "Epoch 27/600\n",
            "20/20 [==============================] - 0s 15ms/step - loss: 6.7107 - val_loss: 7.2967\n",
            "Epoch 28/600\n",
            "20/20 [==============================] - 0s 14ms/step - loss: 6.7214 - val_loss: 7.2950\n",
            "Epoch 29/600\n",
            "20/20 [==============================] - 0s 15ms/step - loss: 6.6283 - val_loss: 7.2673\n",
            "Epoch 30/600\n",
            "20/20 [==============================] - 0s 17ms/step - loss: 6.6983 - val_loss: 7.2271\n",
            "Epoch 31/600\n",
            "20/20 [==============================] - 0s 15ms/step - loss: 6.6971 - val_loss: 7.2151\n",
            "Epoch 32/600\n",
            "20/20 [==============================] - 0s 15ms/step - loss: 6.6556 - val_loss: 7.2956\n",
            "Epoch 33/600\n",
            "20/20 [==============================] - 0s 15ms/step - loss: 6.6824 - val_loss: 7.2713\n",
            "Epoch 34/600\n",
            "20/20 [==============================] - 0s 15ms/step - loss: 6.7654 - val_loss: 7.3146\n",
            "Epoch 35/600\n",
            "20/20 [==============================] - 0s 16ms/step - loss: 6.6943 - val_loss: 7.2519\n",
            "Epoch 36/600\n",
            "20/20 [==============================] - 0s 15ms/step - loss: 6.6654 - val_loss: 7.3543\n",
            "Epoch 37/600\n",
            "20/20 [==============================] - 0s 16ms/step - loss: 6.6831 - val_loss: 7.2673\n",
            "Epoch 38/600\n",
            "20/20 [==============================] - 0s 15ms/step - loss: 6.6862 - val_loss: 7.2461\n",
            "Epoch 39/600\n",
            "20/20 [==============================] - 0s 16ms/step - loss: 6.5825 - val_loss: 7.3629\n",
            "Epoch 40/600\n",
            "20/20 [==============================] - 0s 15ms/step - loss: 6.7213 - val_loss: 7.2685\n",
            "Epoch 1/600\n",
            "17/17 [==============================] - 0s 21ms/step - loss: 6.6431 - val_loss: 7.2368\n",
            "Epoch 2/600\n",
            "17/17 [==============================] - 0s 16ms/step - loss: 6.6468 - val_loss: 7.2629\n",
            "Epoch 3/600\n",
            "17/17 [==============================] - 0s 17ms/step - loss: 6.6577 - val_loss: 7.3039\n",
            "Epoch 4/600\n",
            "17/17 [==============================] - 0s 19ms/step - loss: 6.5621 - val_loss: 7.1914\n",
            "Epoch 5/600\n",
            "17/17 [==============================] - 0s 18ms/step - loss: 6.6666 - val_loss: 7.2108\n",
            "Epoch 6/600\n",
            "17/17 [==============================] - 0s 18ms/step - loss: 6.6527 - val_loss: 7.1837\n",
            "Epoch 7/600\n",
            "17/17 [==============================] - 0s 18ms/step - loss: 6.6165 - val_loss: 7.2437\n",
            "Epoch 8/600\n",
            "17/17 [==============================] - 0s 16ms/step - loss: 6.7043 - val_loss: 7.1991\n",
            "Epoch 9/600\n",
            "17/17 [==============================] - 0s 17ms/step - loss: 6.4934 - val_loss: 7.2114\n",
            "Epoch 10/600\n",
            "17/17 [==============================] - 0s 18ms/step - loss: 6.5564 - val_loss: 7.3233\n",
            "Epoch 11/600\n",
            "17/17 [==============================] - 0s 18ms/step - loss: 6.6162 - val_loss: 7.2164\n",
            "Epoch 12/600\n",
            "17/17 [==============================] - 0s 17ms/step - loss: 6.5756 - val_loss: 7.2044\n",
            "Epoch 13/600\n",
            "17/17 [==============================] - 0s 18ms/step - loss: 6.6237 - val_loss: 7.3152\n",
            "Epoch 14/600\n",
            "17/17 [==============================] - 0s 17ms/step - loss: 6.5643 - val_loss: 7.2464\n",
            "Epoch 15/600\n",
            "17/17 [==============================] - 0s 16ms/step - loss: 6.6928 - val_loss: 7.1892\n",
            "Epoch 16/600\n",
            "17/17 [==============================] - 0s 17ms/step - loss: 6.5572 - val_loss: 7.2680\n",
            "Epoch 17/600\n",
            "17/17 [==============================] - 0s 17ms/step - loss: 6.7213 - val_loss: 7.2084\n",
            "Epoch 18/600\n",
            "17/17 [==============================] - 0s 17ms/step - loss: 6.6166 - val_loss: 7.2023\n",
            "Epoch 19/600\n",
            "17/17 [==============================] - 0s 17ms/step - loss: 6.6501 - val_loss: 7.2050\n",
            "Epoch 20/600\n",
            "17/17 [==============================] - 0s 18ms/step - loss: 6.5157 - val_loss: 7.2136\n",
            "Epoch 21/600\n",
            "17/17 [==============================] - 0s 17ms/step - loss: 6.5791 - val_loss: 7.2845\n",
            "Epoch 1/600\n",
            "15/15 [==============================] - 0s 22ms/step - loss: 6.6496 - val_loss: 7.2615\n",
            "Epoch 2/600\n",
            "15/15 [==============================] - 0s 20ms/step - loss: 6.6127 - val_loss: 7.1872\n",
            "Epoch 3/600\n",
            "15/15 [==============================] - 0s 18ms/step - loss: 6.5825 - val_loss: 7.2801\n",
            "Epoch 4/600\n",
            "15/15 [==============================] - 0s 20ms/step - loss: 6.5880 - val_loss: 7.2693\n",
            "Epoch 5/600\n",
            "15/15 [==============================] - 0s 19ms/step - loss: 6.5398 - val_loss: 7.1899\n",
            "Epoch 6/600\n",
            "15/15 [==============================] - 0s 20ms/step - loss: 6.5953 - val_loss: 7.2435\n",
            "Epoch 7/600\n",
            "15/15 [==============================] - 0s 20ms/step - loss: 6.6770 - val_loss: 7.2302\n",
            "Epoch 8/600\n",
            "15/15 [==============================] - 0s 20ms/step - loss: 6.5133 - val_loss: 7.2276\n",
            "Epoch 9/600\n",
            "15/15 [==============================] - 0s 19ms/step - loss: 6.5383 - val_loss: 7.2217\n",
            "Epoch 10/600\n",
            "15/15 [==============================] - 0s 20ms/step - loss: 6.5134 - val_loss: 7.2080\n",
            "Epoch 11/600\n",
            "15/15 [==============================] - 0s 20ms/step - loss: 6.6133 - val_loss: 7.2615\n",
            "Epoch 12/600\n",
            "15/15 [==============================] - 0s 20ms/step - loss: 6.6422 - val_loss: 7.2299\n",
            "Epoch 13/600\n",
            "15/15 [==============================] - 0s 19ms/step - loss: 6.6727 - val_loss: 7.1997\n",
            "Epoch 14/600\n",
            "15/15 [==============================] - 0s 19ms/step - loss: 6.5594 - val_loss: 7.2053\n",
            "Epoch 15/600\n",
            "15/15 [==============================] - 0s 19ms/step - loss: 6.5184 - val_loss: 7.1984\n",
            "Epoch 16/600\n",
            "15/15 [==============================] - 0s 19ms/step - loss: 6.5572 - val_loss: 7.1890\n",
            "Epoch 17/600\n",
            "15/15 [==============================] - 0s 19ms/step - loss: 6.5333 - val_loss: 7.1922\n",
            "Epoch 1/600\n",
            "14/14 [==============================] - 0s 23ms/step - loss: 6.6361 - val_loss: 7.2791\n",
            "Epoch 2/600\n",
            "14/14 [==============================] - 0s 20ms/step - loss: 6.6579 - val_loss: 7.4343\n",
            "Epoch 3/600\n",
            "14/14 [==============================] - 0s 19ms/step - loss: 6.7853 - val_loss: 7.4145\n",
            "Epoch 4/600\n",
            "14/14 [==============================] - 0s 19ms/step - loss: 6.7223 - val_loss: 7.3520\n",
            "Epoch 5/600\n",
            "14/14 [==============================] - 0s 18ms/step - loss: 6.7684 - val_loss: 7.3855\n",
            "Epoch 6/600\n",
            "14/14 [==============================] - 0s 20ms/step - loss: 6.9063 - val_loss: 7.2822\n",
            "Epoch 7/600\n",
            "14/14 [==============================] - 0s 17ms/step - loss: 6.7482 - val_loss: 7.3503\n",
            "Epoch 8/600\n",
            "14/14 [==============================] - 0s 20ms/step - loss: 6.8906 - val_loss: 7.6512\n",
            "Epoch 9/600\n",
            "14/14 [==============================] - 0s 19ms/step - loss: 6.9129 - val_loss: 7.5221\n",
            "Epoch 10/600\n",
            "14/14 [==============================] - 0s 19ms/step - loss: 6.8883 - val_loss: 7.5218\n",
            "Epoch 11/600\n",
            "14/14 [==============================] - 0s 20ms/step - loss: 6.8484 - val_loss: 7.6240\n",
            "Epoch 12/600\n",
            "14/14 [==============================] - 0s 19ms/step - loss: 6.9830 - val_loss: 7.7356\n",
            "Epoch 13/600\n",
            "14/14 [==============================] - 0s 18ms/step - loss: 7.1930 - val_loss: 7.7740\n",
            "Epoch 14/600\n",
            "14/14 [==============================] - 0s 19ms/step - loss: 7.0588 - val_loss: 7.7624\n",
            "Epoch 15/600\n",
            "14/14 [==============================] - 0s 20ms/step - loss: 7.1990 - val_loss: 7.7542\n",
            "Epoch 16/600\n",
            "14/14 [==============================] - 0s 19ms/step - loss: 7.2287 - val_loss: 7.9319\n",
            "Epoch 1/600\n",
            "12/12 [==============================] - 0s 25ms/step - loss: 6.6497 - val_loss: 7.4588\n",
            "Epoch 2/600\n",
            "12/12 [==============================] - 0s 19ms/step - loss: 6.6280 - val_loss: 7.3393\n",
            "Epoch 3/600\n",
            "12/12 [==============================] - 0s 21ms/step - loss: 6.5215 - val_loss: 7.2014\n",
            "Epoch 4/600\n",
            "12/12 [==============================] - 0s 21ms/step - loss: 6.5201 - val_loss: 7.1886\n",
            "Epoch 5/600\n",
            "12/12 [==============================] - 0s 23ms/step - loss: 6.6444 - val_loss: 7.2565\n",
            "Epoch 6/600\n",
            "12/12 [==============================] - 0s 20ms/step - loss: 6.4672 - val_loss: 7.1750\n",
            "Epoch 7/600\n",
            "12/12 [==============================] - 0s 20ms/step - loss: 6.4614 - val_loss: 7.1751\n",
            "Epoch 8/600\n",
            "12/12 [==============================] - 0s 21ms/step - loss: 6.5370 - val_loss: 7.1737\n",
            "Epoch 9/600\n",
            "12/12 [==============================] - 0s 19ms/step - loss: 6.5607 - val_loss: 7.2085\n",
            "Epoch 10/600\n",
            "12/12 [==============================] - 0s 22ms/step - loss: 6.4799 - val_loss: 7.1975\n",
            "Epoch 11/600\n",
            "12/12 [==============================] - 0s 21ms/step - loss: 6.5152 - val_loss: 7.2068\n",
            "Epoch 12/600\n",
            "12/12 [==============================] - 0s 21ms/step - loss: 6.4248 - val_loss: 7.1922\n",
            "Epoch 13/600\n",
            "12/12 [==============================] - 0s 23ms/step - loss: 6.4418 - val_loss: 7.2113\n",
            "Epoch 14/600\n",
            "12/12 [==============================] - 0s 20ms/step - loss: 6.4288 - val_loss: 7.1622\n",
            "Epoch 15/600\n",
            "12/12 [==============================] - 0s 22ms/step - loss: 6.5639 - val_loss: 7.2263\n",
            "Epoch 16/600\n",
            "12/12 [==============================] - 0s 21ms/step - loss: 6.4443 - val_loss: 7.1859\n",
            "Epoch 17/600\n",
            "12/12 [==============================] - 0s 21ms/step - loss: 6.5666 - val_loss: 7.1828\n",
            "Epoch 18/600\n",
            "12/12 [==============================] - 0s 21ms/step - loss: 6.4880 - val_loss: 7.2071\n",
            "Epoch 19/600\n",
            "12/12 [==============================] - 0s 21ms/step - loss: 6.4326 - val_loss: 7.1581\n",
            "Epoch 20/600\n",
            "12/12 [==============================] - 0s 21ms/step - loss: 6.4767 - val_loss: 7.1037\n",
            "Epoch 21/600\n",
            "12/12 [==============================] - 0s 21ms/step - loss: 6.4115 - val_loss: 7.1703\n",
            "Epoch 22/600\n",
            "12/12 [==============================] - 0s 21ms/step - loss: 6.4675 - val_loss: 7.2077\n",
            "Epoch 23/600\n",
            "12/12 [==============================] - 0s 23ms/step - loss: 6.4696 - val_loss: 7.1069\n",
            "Epoch 24/600\n",
            "12/12 [==============================] - 0s 22ms/step - loss: 6.3908 - val_loss: 7.1928\n",
            "Epoch 25/600\n",
            "12/12 [==============================] - 0s 20ms/step - loss: 6.4253 - val_loss: 7.1645\n",
            "Epoch 26/600\n",
            "12/12 [==============================] - 0s 21ms/step - loss: 6.3472 - val_loss: 7.1634\n",
            "Epoch 27/600\n",
            "12/12 [==============================] - 0s 17ms/step - loss: 6.4411 - val_loss: 7.1703\n",
            "Epoch 28/600\n",
            "12/12 [==============================] - 0s 21ms/step - loss: 6.3361 - val_loss: 7.1845\n",
            "Epoch 29/600\n",
            "12/12 [==============================] - 0s 22ms/step - loss: 6.4957 - val_loss: 7.1668\n",
            "Epoch 30/600\n",
            "12/12 [==============================] - 0s 21ms/step - loss: 6.4965 - val_loss: 7.1261\n",
            "Epoch 31/600\n",
            "12/12 [==============================] - 0s 23ms/step - loss: 6.3320 - val_loss: 7.1355\n",
            "Epoch 32/600\n",
            "12/12 [==============================] - 0s 21ms/step - loss: 6.5158 - val_loss: 7.1489\n",
            "Epoch 33/600\n",
            "12/12 [==============================] - 0s 21ms/step - loss: 6.4474 - val_loss: 7.1386\n",
            "Epoch 34/600\n",
            "12/12 [==============================] - 0s 21ms/step - loss: 6.5388 - val_loss: 7.0618\n",
            "Epoch 35/600\n",
            "12/12 [==============================] - 0s 21ms/step - loss: 6.3670 - val_loss: 7.1123\n",
            "Epoch 36/600\n",
            "12/12 [==============================] - 0s 20ms/step - loss: 6.4171 - val_loss: 7.1389\n",
            "Epoch 37/600\n",
            "12/12 [==============================] - 0s 21ms/step - loss: 6.4755 - val_loss: 7.1374\n",
            "Epoch 38/600\n",
            "12/12 [==============================] - 0s 22ms/step - loss: 6.5188 - val_loss: 7.1533\n",
            "Epoch 39/600\n",
            "12/12 [==============================] - 0s 20ms/step - loss: 6.3948 - val_loss: 7.1829\n",
            "Epoch 40/600\n",
            "12/12 [==============================] - 0s 21ms/step - loss: 6.4420 - val_loss: 7.1772\n",
            "Epoch 41/600\n",
            "12/12 [==============================] - 0s 21ms/step - loss: 6.4344 - val_loss: 7.2105\n",
            "Epoch 42/600\n",
            "12/12 [==============================] - 0s 22ms/step - loss: 6.3314 - val_loss: 7.1800\n",
            "Epoch 43/600\n",
            "12/12 [==============================] - 0s 21ms/step - loss: 6.5383 - val_loss: 7.0917\n",
            "Epoch 44/600\n",
            "12/12 [==============================] - 0s 24ms/step - loss: 6.4616 - val_loss: 7.1469\n",
            "Epoch 45/600\n",
            "12/12 [==============================] - 0s 21ms/step - loss: 6.4459 - val_loss: 7.1699\n",
            "Epoch 46/600\n",
            "12/12 [==============================] - 0s 22ms/step - loss: 6.4007 - val_loss: 7.1671\n",
            "Epoch 47/600\n",
            "12/12 [==============================] - 0s 21ms/step - loss: 6.4068 - val_loss: 7.1595\n",
            "Epoch 48/600\n",
            "12/12 [==============================] - 0s 22ms/step - loss: 6.4012 - val_loss: 7.1433\n",
            "Epoch 49/600\n",
            "12/12 [==============================] - 0s 21ms/step - loss: 6.3987 - val_loss: 7.1423\n",
            "Epoch 1/600\n",
            "11/11 [==============================] - 0s 28ms/step - loss: 6.4331 - val_loss: 7.0786\n",
            "Epoch 2/600\n",
            "11/11 [==============================] - 0s 25ms/step - loss: 6.3559 - val_loss: 7.1890\n",
            "Epoch 3/600\n",
            "11/11 [==============================] - 0s 23ms/step - loss: 6.3948 - val_loss: 7.1018\n",
            "Epoch 4/600\n",
            "11/11 [==============================] - 0s 24ms/step - loss: 6.3264 - val_loss: 7.1541\n",
            "Epoch 5/600\n",
            "11/11 [==============================] - 0s 21ms/step - loss: 6.5500 - val_loss: 7.1931\n",
            "Epoch 6/600\n",
            "11/11 [==============================] - 0s 23ms/step - loss: 6.4030 - val_loss: 7.1763\n",
            "Epoch 7/600\n",
            "11/11 [==============================] - 0s 24ms/step - loss: 6.4296 - val_loss: 7.1879\n",
            "Epoch 8/600\n",
            "11/11 [==============================] - 0s 21ms/step - loss: 6.3666 - val_loss: 7.2190\n",
            "Epoch 9/600\n",
            "11/11 [==============================] - 0s 23ms/step - loss: 6.5391 - val_loss: 7.1295\n",
            "Epoch 10/600\n",
            "11/11 [==============================] - 0s 23ms/step - loss: 6.3052 - val_loss: 7.1107\n",
            "Epoch 11/600\n",
            "11/11 [==============================] - 0s 23ms/step - loss: 6.4325 - val_loss: 7.1636\n",
            "Epoch 12/600\n",
            "11/11 [==============================] - 0s 22ms/step - loss: 6.4834 - val_loss: 7.1592\n",
            "Epoch 13/600\n",
            "11/11 [==============================] - 0s 24ms/step - loss: 6.3186 - val_loss: 7.1432\n",
            "Epoch 14/600\n",
            "11/11 [==============================] - 0s 23ms/step - loss: 6.3183 - val_loss: 7.1419\n",
            "Epoch 15/600\n",
            "11/11 [==============================] - 0s 23ms/step - loss: 6.3983 - val_loss: 7.1311\n",
            "Epoch 16/600\n",
            "11/11 [==============================] - 0s 22ms/step - loss: 6.4240 - val_loss: 7.1650\n"
          ],
          "name": "stdout"
        }
      ]
    },
    {
      "cell_type": "code",
      "metadata": {
        "id": "ymp1OMtH2C-v",
        "outputId": "5bae7b34-a992-46aa-9405-3db3e670cb65",
        "colab": {
          "base_uri": "https://localhost:8080/",
          "height": 295
        }
      },
      "source": [
        "#histories[0].loc[:,['val_loss']].plot()\n",
        "\n",
        "fig = plt.figure()\n",
        "\n",
        "for frame in histories:\n",
        "    plt.plot(frame.index, frame['val_loss'])\n",
        "\n",
        "plt.xlim(0,150)\n",
        "plt.ylim(6,15)\n",
        "plt.ylabel('MAE')\n",
        "plt.xlabel('epochs')\n",
        "plt.title('Batch size impact')\n",
        "plt.legend(list(range(10,600,50)))\n",
        "plt.show()"
      ],
      "execution_count": null,
      "outputs": [
        {
          "output_type": "display_data",
          "data": {
            "image/png": "[encoded data removed]",
            "text/plain": [
              "<Figure size 432x288 with 1 Axes>"
            ]
          },
          "metadata": {
            "tags": [],
            "needs_background": "light"
          }
        }
      ]
    },
    {
      "cell_type": "code",
      "metadata": {
        "id": "ePXox7oJxy0P",
        "outputId": "8c9eafdf-50b6-4bbd-811a-11bfcc6e5516",
        "colab": {
          "base_uri": "https://localhost:8080/",
          "height": 607
        }
      },
      "source": [
        "fig, axes = plt.subplots(4,3, figsize=(10,10), sharex=True, sharey=True);\n",
        "for key, ax in enumerate(axes.flatten()):\n",
        "  for i in histories[key].columns:\n",
        "    ax.plot(histories[key].loc[:,[i]], label=i)\n",
        "  ax.set(title=list(range(10,600,50))[key],\n",
        "       xlim=(0,170),\n",
        "       ylim=(6,15),\n",
        "       )\n",
        "  ax.legend()\n",
        "plt.subplots_adjust(hspace=0.3, wspace=0.3)"
      ],
      "execution_count": null,
      "outputs": [
        {
          "output_type": "display_data",
          "data": {
            "image/png": "[encoded data removed]",
            "text/plain": [
              "<Figure size 720x720 with 12 Axes>"
            ]
          },
          "metadata": {
            "tags": [],
            "needs_background": "light"
          }
        }
      ]
    },
    {
      "cell_type": "markdown",
      "metadata": {
        "id": "34Xa-sfFzKrD"
      },
      "source": [
        "###Aplicação do TensorFlow com TPU"
      ]
    },
    {
      "cell_type": "code",
      "metadata": {
        "id": "cBAWN1qSGDEn"
      },
      "source": [
        "# Definir a estrutura da rede neural\n",
        "\n",
        "model = keras.Sequential([\n",
        "    layers.Dense(512, activation='relu', input_shape=input_shape),\n",
        "    layers.Dropout(0.2),\n",
        "    layers.BatchNormalization(),\n",
        "    layers.Dense(512, activation='relu'),\n",
        "    layers.Dropout(0.2),\n",
        "    layers.BatchNormalization(), \n",
        "    layers.Dense(512, activation='relu'),\n",
        "    layers.Dropout(0.2),\n",
        "    layers.BatchNormalization(),\n",
        "    layers.Dense(512, activation='relu'),\n",
        "    layers.Dropout(0.2),\n",
        "    layers.BatchNormalization(),\n",
        "    layers.Dense(1),\n",
        "])\n",
        "\n",
        "# Definir a função perda e otimizador\n",
        "\n",
        "model.compile(\n",
        "    optimizer='adam',\n",
        "    loss='mae'\n",
        ")"
      ],
      "execution_count": null,
      "outputs": []
    },
    {
      "cell_type": "code",
      "metadata": {
        "id": "xGHsYTIzFlWL"
      },
      "source": [
        "# Parada antecipada e ajuste learning rate\n",
        "\n",
        "from tensorflow.keras.callbacks import EarlyStopping\n",
        "from tensorflow.keras.callbacks import ReduceLROnPlateau\n",
        "\n",
        "early_stopping = EarlyStopping(\n",
        "    min_delta=0.001, \n",
        "    patience=15, \n",
        "    restore_best_weights=True,\n",
        ")\n",
        "\n",
        "lr_schedule = ReduceLROnPlateau(\n",
        "    patience=10,\n",
        "    factor=0.02,\n",
        "    min_lr=0.001,\n",
        ")"
      ],
      "execution_count": null,
      "outputs": []
    },
    {
      "cell_type": "code",
      "metadata": {
        "id": "GaGcSqDoWfEX"
      },
      "source": [
        "# Training Configuration\n",
        "BATCH_SIZE_PER_REPLICA = 2 ** 5 # powers of 128 are best\n",
        "\n",
        "\n",
        "validation_size = X_test.shape[0]\n",
        "training_size = X_train.shape[0]\n",
        "\n",
        "# For model.fit\n",
        "batch_size = BATCH_SIZE_PER_REPLICA * strategy.num_replicas_in_sync\n",
        "steps_per_epoch = training_size // batch_size\n",
        "validation_steps = validation_size // batch_size"
      ],
      "execution_count": null,
      "outputs": []
    },
    {
      "cell_type": "code",
      "metadata": {
        "id": "1mQ1a4ZyZA6-",
        "outputId": "0ede245e-31c6-4c7b-8bbb-9913e42cfd1c",
        "colab": {
          "base_uri": "https://localhost:8080/"
        }
      },
      "source": [
        "# Treinar o modelo\n",
        "\n",
        "history = model.fit(\n",
        "    X_train_norm,y_train,\n",
        "    validation_data=(X_test_norm, y_test),\n",
        "    epochs=600,\n",
        "    steps_per_epoch=steps_per_epoch,\n",
        "    validation_steps=validation_steps,\n",
        "    callbacks=[early_stopping, lr_schedule],\n",
        ")"
      ],
      "execution_count": null,
      "outputs": [
        {
          "output_type": "stream",
          "text": [
            "Epoch 1/600\n",
            "\r 1/23 [>.............................] - ETA: 0s - loss: 6.8084WARNING:tensorflow:Callbacks method `on_train_batch_end` is slow compared to the batch time (batch time: 0.0018s vs `on_train_batch_end` time: 0.0168s). Check your callbacks.\n"
          ],
          "name": "stdout"
        },
        {
          "output_type": "stream",
          "text": [
            "WARNING:tensorflow:Callbacks method `on_train_batch_end` is slow compared to the batch time (batch time: 0.0018s vs `on_train_batch_end` time: 0.0168s). Check your callbacks.\n"
          ],
          "name": "stderr"
        },
        {
          "output_type": "stream",
          "text": [
            "22/23 [===========================>..] - ETA: 0s - loss: 6.0820WARNING:tensorflow:Callbacks method `on_test_batch_end` is slow compared to the batch time (batch time: 0.0014s vs `on_test_batch_end` time: 0.0043s). Check your callbacks.\n"
          ],
          "name": "stdout"
        },
        {
          "output_type": "stream",
          "text": [
            "WARNING:tensorflow:Callbacks method `on_test_batch_end` is slow compared to the batch time (batch time: 0.0014s vs `on_test_batch_end` time: 0.0043s). Check your callbacks.\n"
          ],
          "name": "stderr"
        },
        {
          "output_type": "stream",
          "text": [
            "23/23 [==============================] - 1s 25ms/step - loss: 6.0855 - val_loss: 6.9937\n",
            "Epoch 2/600\n",
            "23/23 [==============================] - 0s 20ms/step - loss: 6.0155 - val_loss: 7.0119\n",
            "Epoch 3/600\n",
            "23/23 [==============================] - 1s 22ms/step - loss: 6.1129 - val_loss: 6.9538\n",
            "Epoch 4/600\n",
            "23/23 [==============================] - 0s 21ms/step - loss: 6.0921 - val_loss: 7.0779\n",
            "Epoch 5/600\n",
            "23/23 [==============================] - 0s 21ms/step - loss: 5.9551 - val_loss: 6.9582\n",
            "Epoch 6/600\n",
            "23/23 [==============================] - 0s 20ms/step - loss: 6.0444 - val_loss: 6.9826\n",
            "Epoch 7/600\n",
            "23/23 [==============================] - 0s 21ms/step - loss: 6.0694 - val_loss: 6.9993\n",
            "Epoch 8/600\n",
            "23/23 [==============================] - 0s 20ms/step - loss: 6.1170 - val_loss: 6.9962\n",
            "Epoch 9/600\n",
            "23/23 [==============================] - 0s 20ms/step - loss: 6.0367 - val_loss: 6.9962\n",
            "Epoch 10/600\n",
            "23/23 [==============================] - 1s 23ms/step - loss: 5.9725 - val_loss: 6.9490\n",
            "Epoch 11/600\n",
            "23/23 [==============================] - 0s 20ms/step - loss: 5.9323 - val_loss: 6.9690\n",
            "Epoch 12/600\n",
            "23/23 [==============================] - 0s 20ms/step - loss: 5.8930 - val_loss: 6.9830\n",
            "Epoch 13/600\n",
            "23/23 [==============================] - 1s 22ms/step - loss: 6.0069 - val_loss: 6.9424\n",
            "Epoch 14/600\n",
            "23/23 [==============================] - 0s 20ms/step - loss: 5.9418 - val_loss: 6.9907\n",
            "Epoch 15/600\n",
            "23/23 [==============================] - 1s 23ms/step - loss: 5.8400 - val_loss: 6.8894\n",
            "Epoch 16/600\n",
            "23/23 [==============================] - 0s 21ms/step - loss: 5.9241 - val_loss: 6.9605\n",
            "Epoch 17/600\n",
            "23/23 [==============================] - 0s 21ms/step - loss: 5.9068 - val_loss: 6.9237\n",
            "Epoch 18/600\n",
            "23/23 [==============================] - 0s 21ms/step - loss: 5.7887 - val_loss: 7.0028\n",
            "Epoch 19/600\n",
            "23/23 [==============================] - 0s 21ms/step - loss: 5.8993 - val_loss: 6.9732\n",
            "Epoch 20/600\n",
            "23/23 [==============================] - 0s 21ms/step - loss: 5.9199 - val_loss: 6.9092\n",
            "Epoch 21/600\n",
            "23/23 [==============================] - 0s 20ms/step - loss: 5.8645 - val_loss: 6.9122\n",
            "Epoch 22/600\n",
            "23/23 [==============================] - 0s 20ms/step - loss: 5.9627 - val_loss: 6.9561\n",
            "Epoch 23/600\n",
            "23/23 [==============================] - 0s 21ms/step - loss: 5.8638 - val_loss: 6.9619\n",
            "Epoch 24/600\n",
            "23/23 [==============================] - 0s 20ms/step - loss: 5.8199 - val_loss: 6.9307\n",
            "Epoch 25/600\n",
            "23/23 [==============================] - 0s 21ms/step - loss: 5.8178 - val_loss: 6.7787\n",
            "Epoch 26/600\n",
            "23/23 [==============================] - 0s 21ms/step - loss: 5.9566 - val_loss: 6.8838\n",
            "Epoch 27/600\n",
            "23/23 [==============================] - 0s 20ms/step - loss: 5.8453 - val_loss: 6.8285\n",
            "Epoch 28/600\n",
            "23/23 [==============================] - 0s 20ms/step - loss: 5.7881 - val_loss: 6.7945\n",
            "Epoch 29/600\n",
            "23/23 [==============================] - 0s 21ms/step - loss: 5.7792 - val_loss: 6.8473\n",
            "Epoch 30/600\n",
            "23/23 [==============================] - 0s 20ms/step - loss: 5.8562 - val_loss: 6.8770\n",
            "Epoch 31/600\n",
            "23/23 [==============================] - 0s 20ms/step - loss: 5.8986 - val_loss: 6.9044\n",
            "Epoch 32/600\n",
            "23/23 [==============================] - 0s 20ms/step - loss: 5.8026 - val_loss: 6.8013\n",
            "Epoch 33/600\n",
            "23/23 [==============================] - 0s 20ms/step - loss: 5.7363 - val_loss: 7.0018\n",
            "Epoch 34/600\n",
            "23/23 [==============================] - 0s 21ms/step - loss: 5.8158 - val_loss: 6.8132\n",
            "Epoch 35/600\n",
            "23/23 [==============================] - 0s 21ms/step - loss: 5.7971 - val_loss: 6.8917\n",
            "Epoch 36/600\n",
            "23/23 [==============================] - 0s 20ms/step - loss: 5.7809 - val_loss: 6.8136\n",
            "Epoch 37/600\n",
            "23/23 [==============================] - 0s 20ms/step - loss: 5.7048 - val_loss: 6.7949\n",
            "Epoch 38/600\n",
            "23/23 [==============================] - 0s 20ms/step - loss: 5.7533 - val_loss: 6.7943\n",
            "Epoch 39/600\n",
            "23/23 [==============================] - 1s 22ms/step - loss: 5.6523 - val_loss: 6.7104\n",
            "Epoch 40/600\n",
            "23/23 [==============================] - 0s 21ms/step - loss: 5.7137 - val_loss: 6.8420\n",
            "Epoch 41/600\n",
            "23/23 [==============================] - 1s 22ms/step - loss: 5.7097 - val_loss: 6.6764\n",
            "Epoch 42/600\n",
            "23/23 [==============================] - 0s 21ms/step - loss: 5.7445 - val_loss: 6.7039\n",
            "Epoch 43/600\n",
            "23/23 [==============================] - 0s 20ms/step - loss: 5.7045 - val_loss: 6.9123\n",
            "Epoch 44/600\n",
            "23/23 [==============================] - 0s 21ms/step - loss: 5.7517 - val_loss: 6.7678\n",
            "Epoch 45/600\n",
            "23/23 [==============================] - 0s 20ms/step - loss: 5.6967 - val_loss: 6.7746\n",
            "Epoch 46/600\n",
            "23/23 [==============================] - 0s 20ms/step - loss: 5.6704 - val_loss: 6.6958\n",
            "Epoch 47/600\n",
            "23/23 [==============================] - 0s 21ms/step - loss: 5.6949 - val_loss: 6.7626\n",
            "Epoch 48/600\n",
            "23/23 [==============================] - 0s 20ms/step - loss: 5.5817 - val_loss: 6.8319\n",
            "Epoch 49/600\n",
            "23/23 [==============================] - 0s 21ms/step - loss: 5.6661 - val_loss: 6.8044\n",
            "Epoch 50/600\n",
            "23/23 [==============================] - 1s 22ms/step - loss: 5.7137 - val_loss: 6.7598\n",
            "Epoch 51/600\n",
            "23/23 [==============================] - 0s 21ms/step - loss: 5.6716 - val_loss: 6.7137\n",
            "Epoch 52/600\n",
            "23/23 [==============================] - 0s 22ms/step - loss: 5.6593 - val_loss: 6.6486\n",
            "Epoch 53/600\n",
            "23/23 [==============================] - 0s 21ms/step - loss: 5.6443 - val_loss: 6.8586\n",
            "Epoch 54/600\n",
            "23/23 [==============================] - 0s 21ms/step - loss: 5.6828 - val_loss: 6.8271\n",
            "Epoch 55/600\n",
            "23/23 [==============================] - 1s 23ms/step - loss: 5.6059 - val_loss: 6.6306\n",
            "Epoch 56/600\n",
            "23/23 [==============================] - 1s 23ms/step - loss: 5.5483 - val_loss: 6.6096\n",
            "Epoch 57/600\n",
            "23/23 [==============================] - 0s 21ms/step - loss: 5.5362 - val_loss: 6.8261\n",
            "Epoch 58/600\n",
            "23/23 [==============================] - 0s 21ms/step - loss: 5.6210 - val_loss: 6.7139\n",
            "Epoch 59/600\n",
            "23/23 [==============================] - 0s 21ms/step - loss: 5.5613 - val_loss: 6.6345\n",
            "Epoch 60/600\n",
            "23/23 [==============================] - 0s 21ms/step - loss: 5.6066 - val_loss: 6.6275\n",
            "Epoch 61/600\n",
            "23/23 [==============================] - 0s 20ms/step - loss: 5.5319 - val_loss: 6.6438\n",
            "Epoch 62/600\n",
            "23/23 [==============================] - 0s 20ms/step - loss: 5.5907 - val_loss: 6.7245\n",
            "Epoch 63/600\n",
            "23/23 [==============================] - 0s 21ms/step - loss: 5.6148 - val_loss: 6.6822\n",
            "Epoch 64/600\n",
            "23/23 [==============================] - 0s 20ms/step - loss: 5.5544 - val_loss: 6.7430\n",
            "Epoch 65/600\n",
            "23/23 [==============================] - 0s 20ms/step - loss: 5.5468 - val_loss: 6.7392\n",
            "Epoch 66/600\n",
            "23/23 [==============================] - 0s 21ms/step - loss: 5.5073 - val_loss: 6.6853\n",
            "Epoch 67/600\n",
            "23/23 [==============================] - 0s 20ms/step - loss: 5.5300 - val_loss: 6.6853\n",
            "Epoch 68/600\n",
            "23/23 [==============================] - 1s 23ms/step - loss: 5.4041 - val_loss: 6.5862\n",
            "Epoch 69/600\n",
            "23/23 [==============================] - 0s 20ms/step - loss: 5.4393 - val_loss: 6.6347\n",
            "Epoch 70/600\n",
            "23/23 [==============================] - 0s 21ms/step - loss: 5.4818 - val_loss: 6.6653\n",
            "Epoch 71/600\n",
            "23/23 [==============================] - 0s 20ms/step - loss: 5.5071 - val_loss: 6.6629\n",
            "Epoch 72/600\n",
            "23/23 [==============================] - 0s 20ms/step - loss: 5.6499 - val_loss: 6.6143\n",
            "Epoch 73/600\n",
            "23/23 [==============================] - 1s 22ms/step - loss: 5.5517 - val_loss: 6.5489\n",
            "Epoch 74/600\n",
            "23/23 [==============================] - 0s 20ms/step - loss: 5.3770 - val_loss: 6.6183\n",
            "Epoch 75/600\n",
            "23/23 [==============================] - 0s 21ms/step - loss: 5.6072 - val_loss: 6.6924\n",
            "Epoch 76/600\n",
            "23/23 [==============================] - 1s 22ms/step - loss: 5.3925 - val_loss: 6.5267\n",
            "Epoch 77/600\n",
            "23/23 [==============================] - 0s 20ms/step - loss: 5.3526 - val_loss: 6.5563\n",
            "Epoch 78/600\n",
            "23/23 [==============================] - 0s 20ms/step - loss: 5.5495 - val_loss: 6.5889\n",
            "Epoch 79/600\n",
            "23/23 [==============================] - 0s 20ms/step - loss: 5.3659 - val_loss: 6.7052\n",
            "Epoch 80/600\n",
            "23/23 [==============================] - 0s 20ms/step - loss: 5.4251 - val_loss: 6.6929\n",
            "Epoch 81/600\n",
            "23/23 [==============================] - 0s 20ms/step - loss: 5.4800 - val_loss: 6.5374\n",
            "Epoch 82/600\n",
            "23/23 [==============================] - 0s 20ms/step - loss: 5.4508 - val_loss: 6.5537\n",
            "Epoch 83/600\n",
            "23/23 [==============================] - 0s 21ms/step - loss: 5.4204 - val_loss: 6.5528\n",
            "Epoch 84/600\n",
            "23/23 [==============================] - 0s 20ms/step - loss: 5.3796 - val_loss: 6.7379\n",
            "Epoch 85/600\n",
            "23/23 [==============================] - 0s 20ms/step - loss: 5.3150 - val_loss: 6.5960\n",
            "Epoch 86/600\n",
            "23/23 [==============================] - 0s 20ms/step - loss: 5.3526 - val_loss: 6.6228\n",
            "Epoch 87/600\n",
            "23/23 [==============================] - 0s 20ms/step - loss: 5.4442 - val_loss: 6.5732\n",
            "Epoch 88/600\n",
            "23/23 [==============================] - 0s 20ms/step - loss: 5.4101 - val_loss: 6.7655\n",
            "Epoch 89/600\n",
            "23/23 [==============================] - 0s 21ms/step - loss: 5.3824 - val_loss: 6.6280\n",
            "Epoch 90/600\n",
            "23/23 [==============================] - 1s 22ms/step - loss: 5.3535 - val_loss: 6.3897\n",
            "Epoch 91/600\n",
            "23/23 [==============================] - 0s 20ms/step - loss: 5.3059 - val_loss: 6.6370\n",
            "Epoch 92/600\n",
            "23/23 [==============================] - 0s 20ms/step - loss: 5.4109 - val_loss: 6.4808\n",
            "Epoch 93/600\n",
            "23/23 [==============================] - 0s 20ms/step - loss: 5.3913 - val_loss: 6.5576\n",
            "Epoch 94/600\n",
            "23/23 [==============================] - 0s 20ms/step - loss: 5.2956 - val_loss: 6.4867\n",
            "Epoch 95/600\n",
            "23/23 [==============================] - 0s 20ms/step - loss: 5.3536 - val_loss: 6.6864\n",
            "Epoch 96/600\n",
            "23/23 [==============================] - 0s 20ms/step - loss: 5.3440 - val_loss: 6.4933\n",
            "Epoch 97/600\n",
            "23/23 [==============================] - 0s 20ms/step - loss: 5.4471 - val_loss: 6.5857\n",
            "Epoch 98/600\n",
            "23/23 [==============================] - 0s 20ms/step - loss: 5.2616 - val_loss: 6.4538\n",
            "Epoch 99/600\n",
            "23/23 [==============================] - 0s 20ms/step - loss: 5.1818 - val_loss: 6.4801\n",
            "Epoch 100/600\n",
            "23/23 [==============================] - 0s 21ms/step - loss: 5.2255 - val_loss: 6.4873\n",
            "Epoch 101/600\n",
            "23/23 [==============================] - 0s 20ms/step - loss: 5.3441 - val_loss: 6.4902\n",
            "Epoch 102/600\n",
            "23/23 [==============================] - 0s 20ms/step - loss: 5.2580 - val_loss: 6.4792\n",
            "Epoch 103/600\n",
            "23/23 [==============================] - 0s 20ms/step - loss: 5.2600 - val_loss: 6.6374\n",
            "Epoch 104/600\n",
            "23/23 [==============================] - 0s 20ms/step - loss: 5.3811 - val_loss: 6.5049\n",
            "Epoch 105/600\n",
            "23/23 [==============================] - 1s 22ms/step - loss: 5.2652 - val_loss: 6.3839\n",
            "Epoch 106/600\n",
            "23/23 [==============================] - 0s 21ms/step - loss: 5.2716 - val_loss: 6.5238\n",
            "Epoch 107/600\n",
            "23/23 [==============================] - 1s 22ms/step - loss: 5.2864 - val_loss: 6.3458\n",
            "Epoch 108/600\n",
            "23/23 [==============================] - 0s 20ms/step - loss: 5.2502 - val_loss: 6.3910\n",
            "Epoch 109/600\n",
            "23/23 [==============================] - 0s 21ms/step - loss: 5.1588 - val_loss: 6.4578\n",
            "Epoch 110/600\n",
            "23/23 [==============================] - 0s 21ms/step - loss: 5.2365 - val_loss: 6.4353\n",
            "Epoch 111/600\n",
            "23/23 [==============================] - 0s 20ms/step - loss: 5.2290 - val_loss: 6.5814\n",
            "Epoch 112/600\n",
            "23/23 [==============================] - 0s 20ms/step - loss: 5.2892 - val_loss: 6.4623\n",
            "Epoch 113/600\n",
            "23/23 [==============================] - 0s 21ms/step - loss: 5.2784 - val_loss: 6.4817\n",
            "Epoch 114/600\n",
            "23/23 [==============================] - 0s 20ms/step - loss: 5.3461 - val_loss: 6.5027\n",
            "Epoch 115/600\n",
            "23/23 [==============================] - 0s 20ms/step - loss: 5.2641 - val_loss: 6.4591\n",
            "Epoch 116/600\n",
            "23/23 [==============================] - 0s 20ms/step - loss: 5.3052 - val_loss: 6.5352\n",
            "Epoch 117/600\n",
            "23/23 [==============================] - 0s 21ms/step - loss: 5.1712 - val_loss: 6.4707\n",
            "Epoch 118/600\n",
            "23/23 [==============================] - 0s 20ms/step - loss: 5.2284 - val_loss: 6.5834\n",
            "Epoch 119/600\n",
            "23/23 [==============================] - 0s 20ms/step - loss: 5.1597 - val_loss: 6.4171\n",
            "Epoch 120/600\n",
            "23/23 [==============================] - 0s 21ms/step - loss: 5.1535 - val_loss: 6.5996\n",
            "Epoch 121/600\n",
            "23/23 [==============================] - 0s 20ms/step - loss: 5.1791 - val_loss: 6.4315\n",
            "Epoch 122/600\n",
            "23/23 [==============================] - 0s 21ms/step - loss: 5.3107 - val_loss: 6.5713\n"
          ],
          "name": "stdout"
        }
      ]
    },
    {
      "cell_type": "code",
      "metadata": {
        "id": "aZtlgOy6GWfx",
        "outputId": "1e767d8b-c992-4592-dd97-35d239ece3a4",
        "colab": {
          "base_uri": "https://localhost:8080/",
          "height": 282
        }
      },
      "source": [
        "\n",
        "history_df = pd.DataFrame(history.history)\n",
        "history_df.loc[:, ['loss', 'val_loss']].plot()\n",
        "print(\"Minimum Validation Loss: {:0.4f}\".format(history_df['val_loss'].min()));"
      ],
      "execution_count": null,
      "outputs": [
        {
          "output_type": "stream",
          "text": [
            "Minimum Validation Loss: 6.3458\n"
          ],
          "name": "stdout"
        },
        {
          "output_type": "display_data",
          "data": {
            "image/png": "[encoded data removed]",
            "text/plain": [
              "<Figure size 432x288 with 1 Axes>"
            ]
          },
          "metadata": {
            "tags": [],
            "needs_background": "light"
          }
        }
      ]
    }
  ]
}